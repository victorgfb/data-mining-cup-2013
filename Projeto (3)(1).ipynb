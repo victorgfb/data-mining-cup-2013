{
 "cells": [
  {
   "cell_type": "markdown",
   "metadata": {},
   "source": [
    "# Inteligência Computacional"
   ]
  },
  {
   "cell_type": "markdown",
   "metadata": {},
   "source": [
    "## Projeto DATA MINING CUP Competition 2013"
   ]
  },
  {
   "cell_type": "code",
   "execution_count": 2,
   "metadata": {},
   "outputs": [],
   "source": [
    "import pandas as pd\n",
    "\n",
    "from copy import deepcopy\n",
    "\n",
    "from sklearn.model_selection import train_test_split\n",
    "from sklearn.ensemble import RandomForestClassifier\n",
    "from sklearn.metrics import roc_curve,roc_auc_score\n",
    "import matplotlib.pyplot as plt"
   ]
  },
  {
   "cell_type": "code",
   "execution_count": 3,
   "metadata": {},
   "outputs": [],
   "source": [
    "data = pd.read_csv('transact_train.csv')"
   ]
  },
  {
   "cell_type": "markdown",
   "metadata": {},
   "source": [
    "## Tratando Granularidade e Criando Variáveis"
   ]
  },
  {
   "cell_type": "markdown",
   "metadata": {},
   "source": [
    "### Agrupando Dados\n",
    "agrupando todos os dataframes separados por sessionNo em um vetor"
   ]
  },
  {
   "cell_type": "code",
   "execution_count": 4,
   "metadata": {},
   "outputs": [],
   "source": [
    "def groupData(data, field):\n",
    "    group = data[field]\n",
    "    agg = data.groupby([group])\n",
    "    splited = []\n",
    "    for group in agg:\n",
    "        splited.append(pd.DataFrame(data = group[1], columns=data.columns.values))\n",
    "    return splited\n"
   ]
  },
  {
   "cell_type": "code",
   "execution_count": 5,
   "metadata": {},
   "outputs": [],
   "source": [
    "splited = groupData(data,\"sessionNo\")\n",
    "# vetor de dataframes separados por sessionNo\n",
    "#splited[2]"
   ]
  },
  {
   "cell_type": "markdown",
   "metadata": {},
   "source": [
    "### Criando Variáveis da mudança de granularidade\n",
    "Essas são as variáveis que criamos buscando recuperar dados perdidos na mudança da granularidade\n",
    "##### bStep_count\n",
    "    Quantidade de bStep maiores que 3 de cada sessão\n",
    "##### countLog\n",
    "    Numero de log de cada sessão\n",
    "##### modes\n",
    "    Moda do bStep de cada Sessão."
   ]
  },
  {
   "cell_type": "code",
   "execution_count": 6,
   "metadata": {},
   "outputs": [],
   "source": [
    "def granul_fields(splited):\n",
    "    bStep_count = []\n",
    "    countLog = []\n",
    "    modes = []\n",
    "    for session in splited:\n",
    "        countStep = 0\n",
    "        countLog.append(len(session))\n",
    "        modes.append(session['bStep'].mode()[0])\n",
    "        for j in range(len(session)):\n",
    "            if(session['bStep'].iloc[j] != \"?\" and int(session['bStep'].iloc[j]) >= 3):\n",
    "                countStep +=1\n",
    "        bStep_count.append(countStep)\n",
    "    return bStep_count,countLog,modes"
   ]
  },
  {
   "cell_type": "code",
   "execution_count": 7,
   "metadata": {},
   "outputs": [],
   "source": [
    "bStep_count,countLog,modes = granul_fields(splited)\n",
    "#bStep_count\n",
    "#countLog\n",
    "#modes"
   ]
  },
  {
   "cell_type": "markdown",
   "metadata": {},
   "source": [
    "### Mudando Granularidade"
   ]
  },
  {
   "cell_type": "code",
   "execution_count": 8,
   "metadata": {},
   "outputs": [],
   "source": [
    "#Mudando a granularidade\n",
    "def granul_change(data):\n",
    "    return data.groupby(['sessionNo'], as_index=False).last()\n",
    "\n",
    "data = granul_change(data)"
   ]
  },
  {
   "cell_type": "markdown",
   "metadata": {},
   "source": [
    "### Criando Variáveis de Correlação\n",
    "\n",
    "As técnicas de inteligência artificial pressupõem que as variáveis não têm correlação entre si, apenas relação direta com a variável alvo.\n",
    "\n",
    "Essas são as variáveis que criamos buscando informar uma correlação entre variáveis\n",
    "##### diffCounts\n",
    "    diferença entre cCount e bCount\n",
    "##### durCount\n",
    "    Razão entre a duração e o Ccount"
   ]
  },
  {
   "cell_type": "code",
   "execution_count": 9,
   "metadata": {},
   "outputs": [],
   "source": [
    "def correlation_fields(data):\n",
    "    # diffCounts\n",
    "    diffCounts = (data['cCount']-data['bCount']).values\n",
    "\n",
    "    # durCount\n",
    "    durCount = (data['duration']/data['cCount'])\n",
    "    durCount = durCount.replace(float(\"inf\"), \"?\", regex=False).values\n",
    "    # Testar depois com outros valores para tratar o inf\n",
    "    return diffCounts,durCount"
   ]
  },
  {
   "cell_type": "code",
   "execution_count": 10,
   "metadata": {},
   "outputs": [],
   "source": [
    "diffCounts,durCount = correlation_fields(data)\n",
    "#diffCounts\n",
    "#durCount"
   ]
  },
  {
   "cell_type": "markdown",
   "metadata": {},
   "source": [
    "### Atribuindo numeros às classes\n",
    "Buscando melhorar o processamento, transformamos todos os nomes de classe para numeros, numa sequencia de 0 ao numero de classes -1 para cada classe diferente."
   ]
  },
  {
   "cell_type": "code",
   "execution_count": 11,
   "metadata": {},
   "outputs": [],
   "source": [
    "##Ver os valores diferentes de availability\n",
    "#data.groupby(['availability'], as_index=False).last()\n",
    "\n",
    "##Ver os valores diferentes de onlineStatus\n",
    "#data.groupby(['onlineStatus'], as_index=False).last()\n",
    "\n",
    "##Ver os valores diferentes de order\n",
    "#data.groupby(['order'], as_index=False).last()"
   ]
  },
  {
   "cell_type": "code",
   "execution_count": 12,
   "metadata": {},
   "outputs": [],
   "source": [
    "def nominal_to_number(data):\n",
    "    # availability\n",
    "    data.loc[(data.availability == 'completely not determinable'),'availability']= 0\n",
    "    data.loc[(data.availability == 'completely not orderable'),'availability']= 1\n",
    "    data.loc[(data.availability == 'completely orderable'),'availability']= 2\n",
    "    data.loc[(data.availability == 'mainly not determinable'),'availability']= 3\n",
    "    data.loc[(data.availability == 'mainly not orderable'),'availability']= 4\n",
    "    data.loc[(data.availability == 'mainly orderable'),'availability']= 5\n",
    "    data.loc[(data.availability == 'mixed'),'availability']= 6\n",
    "    \n",
    "    # onlineStatus\n",
    "    data.loc[(data.onlineStatus == 'y'),'onlineStatus']= 1\n",
    "    data.loc[(data.onlineStatus == 'n'),'onlineStatus']= 0\n",
    "    \n",
    "    return data"
   ]
  },
  {
   "cell_type": "code",
   "execution_count": 13,
   "metadata": {},
   "outputs": [],
   "source": [
    "data = nominal_to_number(data)\n",
    "\n",
    "# order (está fora porque a etapa que reutiliza esta função não converte a order)\n",
    "data.loc[(data.order == 'y'),'order']= 1\n",
    "data.loc[(data.order == 'n'),'order']= 0"
   ]
  },
  {
   "cell_type": "markdown",
   "metadata": {},
   "source": [
    "### Inserindo as colunas das variáveis criadas\n",
    "Com as variáveis criadas, adicionamos ao conjunto de dados com a granularidade já alterada."
   ]
  },
  {
   "cell_type": "code",
   "execution_count": 14,
   "metadata": {},
   "outputs": [],
   "source": [
    "def insert_column (data,fields,fields_name):\n",
    "    index = len(data.columns)-1\n",
    "    for i in range(len(fields)):\n",
    "        data.insert(index + i,fields_name[i],fields[i],True)\n",
    "    return data"
   ]
  },
  {
   "cell_type": "code",
   "execution_count": 15,
   "metadata": {},
   "outputs": [],
   "source": [
    "def remove_column(data, fields_name):\n",
    "    for i in fields_name:\n",
    "        data.drop(i, inplace=True, axis=1)\n",
    "    return data"
   ]
  },
  {
   "cell_type": "code",
   "execution_count": 16,
   "metadata": {},
   "outputs": [],
   "source": [
    "fields = [bStep_count,countLog,modes,diffCounts,durCount]\n",
    "fields_name = ['bStep_count','countLog','modes','diffCounts','durCount']\n",
    "data = insert_column(data,fields,fields_name)\n",
    "\n",
    "data = remove_column(data,['customerNo'])\n",
    "data = data.fillna(value=0)"
   ]
  },
  {
   "cell_type": "code",
   "execution_count": 17,
   "metadata": {},
   "outputs": [],
   "source": [
    "#data"
   ]
  },
  {
   "cell_type": "markdown",
   "metadata": {},
   "source": [
    "### Tratando Missing Values"
   ]
  },
  {
   "cell_type": "code",
   "execution_count": 18,
   "metadata": {},
   "outputs": [],
   "source": [
    "backupData = deepcopy(data) #data é minimo com moda\n",
    "data2 = deepcopy(data) # minimo com New\n",
    "data3 = deepcopy(data) # maximo com moda\n",
    "data4 = deepcopy(data) # maximo com New\n",
    "data5 = deepcopy(data) # media com moda\n",
    "data6 = deepcopy(data) # media com New\n",
    "data7 = deepcopy(data) # exclusão com moda\n",
    "data8 = deepcopy(data) # exclusão com New"
   ]
  },
  {
   "cell_type": "code",
   "execution_count": 19,
   "metadata": {},
   "outputs": [],
   "source": [
    "#definindo funções para variáveis numéricas:\n",
    "def replaceMissingbyMin(data, field):\n",
    "    if(field == 'durCount'):\n",
    "        mini = data['durCount'].mask(data['durCount'] == '?').min()\n",
    "    else:\n",
    "        mini = data[field].min()\n",
    "    data[field] = data[field].replace('?', mini, regex=False)\n",
    "    \n",
    "def replaceMissingbyMax(data, field):\n",
    "    maxi = data[data[field]!=\"?\"][field].max()\n",
    "    data[field] = data[field].replace('?', maxi, regex=False)\n",
    "\n",
    "def replaceMissingbyMedian(data, field):\n",
    "    median = data[data[field]!=\"?\"][field].median()\n",
    "    data[field] = data[field].replace('?', median, regex=False)\n",
    "    \n",
    "def removeMissing(data, field):\n",
    "    data[field] = data[field].replace('?', float(\"NaN\"))\n",
    "    data.dropna(axis='index', inplace = True)\n",
    "    #for i in range(len(data)):\n",
    "    #    row = data.iloc[i]\n",
    "    #    print(i)\n",
    "    #    if(row[field] == '?'):\n",
    "    #        data.drop([i], axis=0)\n",
    "     #retorna o dataframe onde não tem nenhuma '?'\n",
    "    "
   ]
  },
  {
   "cell_type": "code",
   "execution_count": 20,
   "metadata": {
    "scrolled": true
   },
   "outputs": [
    {
     "name": "stderr",
     "output_type": "stream",
     "text": [
      "/home/victor/.local/lib/python3.7/site-packages/pandas/core/ops/__init__.py:1115: FutureWarning: elementwise comparison failed; returning scalar instead, but in the future will perform elementwise comparison\n",
      "  result = method(y)\n"
     ]
    }
   ],
   "source": [
    "#Tratando os missing values numéricos nos dataframes:\n",
    "varsNum = ['cMinPrice', 'cMaxPrice', 'cSumPrice', 'bMinPrice', 'bMaxPrice', 'bSumPrice', 'bStep', 'maxVal', \n",
    "           'customerScore', 'accountLifetime', 'payments', 'age', 'lastOrder',\"bStep_count\", \"modes\" , \"countLog\" , \"diffCounts\", \"durCount\"]\n",
    "\n",
    "for var in varsNum:\n",
    "    replaceMissingbyMin(data, var)\n",
    "    replaceMissingbyMin(data2, var)\n",
    "    replaceMissingbyMax(data3, var)\n",
    "    replaceMissingbyMax(data4, var)\n",
    "    replaceMissingbyMedian(data5, var)\n",
    "    replaceMissingbyMedian(data6, var)\n",
    "    removeMissing(data7, var)\n",
    "    removeMissing(data8, var)"
   ]
  },
  {
   "cell_type": "code",
   "execution_count": 21,
   "metadata": {},
   "outputs": [],
   "source": [
    "#definindo funções para variáveis categóricas:\n",
    "def replaceMissingbyMode(data, field):\n",
    "    mode = data[field].mode()\n",
    "    if((mode == '?').bool()):\n",
    "        mode = data[field].value_counts().index[1]\n",
    "    data[field] = data[field].replace('?', mode[0], regex=False)\n",
    "    \n",
    "def replaceMissingbyNew(data, field):\n",
    "    data[field] = data[field].replace('?', -1, regex=False)"
   ]
  },
  {
   "cell_type": "code",
   "execution_count": 22,
   "metadata": {},
   "outputs": [],
   "source": [
    "categories = ['onlineStatus', 'availability', 'address']\n",
    "for category in categories:\n",
    "    replaceMissingbyMode(data, category)\n",
    "    replaceMissingbyMode(data3, category)\n",
    "    replaceMissingbyMode(data5, category)\n",
    "    replaceMissingbyMode(data7, category)\n",
    "    replaceMissingbyNew(data2, category)\n",
    "    replaceMissingbyNew(data4, category)\n",
    "    replaceMissingbyNew(data6, category)\n",
    "    replaceMissingbyNew(data8, category)"
   ]
  },
  {
   "cell_type": "code",
   "execution_count": 23,
   "metadata": {},
   "outputs": [],
   "source": [
    "#Salva a tabela\n",
    "datas = [data, data2, data3, data4, data5, data6, data7, data8]\n",
    "data = deepcopy(backupData)"
   ]
  },
  {
   "cell_type": "code",
   "execution_count": 25,
   "metadata": {},
   "outputs": [
    {
     "data": {
      "text/html": [
       "<div>\n",
       "<style scoped>\n",
       "    .dataframe tbody tr th:only-of-type {\n",
       "        vertical-align: middle;\n",
       "    }\n",
       "\n",
       "    .dataframe tbody tr th {\n",
       "        vertical-align: top;\n",
       "    }\n",
       "\n",
       "    .dataframe thead th {\n",
       "        text-align: right;\n",
       "    }\n",
       "</style>\n",
       "<table border=\"1\" class=\"dataframe\">\n",
       "  <thead>\n",
       "    <tr style=\"text-align: right;\">\n",
       "      <th></th>\n",
       "      <th>sessionNo</th>\n",
       "      <th>startHour</th>\n",
       "      <th>startWeekday</th>\n",
       "      <th>duration</th>\n",
       "      <th>cCount</th>\n",
       "      <th>cMinPrice</th>\n",
       "      <th>cMaxPrice</th>\n",
       "      <th>cSumPrice</th>\n",
       "      <th>bCount</th>\n",
       "      <th>bMinPrice</th>\n",
       "      <th>...</th>\n",
       "      <th>payments</th>\n",
       "      <th>age</th>\n",
       "      <th>address</th>\n",
       "      <th>lastOrder</th>\n",
       "      <th>bStep_count</th>\n",
       "      <th>countLog</th>\n",
       "      <th>modes</th>\n",
       "      <th>diffCounts</th>\n",
       "      <th>durCount</th>\n",
       "      <th>order</th>\n",
       "    </tr>\n",
       "  </thead>\n",
       "  <tbody>\n",
       "    <tr>\n",
       "      <th>19</th>\n",
       "      <td>20</td>\n",
       "      <td>6</td>\n",
       "      <td>5</td>\n",
       "      <td>7647.51</td>\n",
       "      <td>11</td>\n",
       "      <td>49.99</td>\n",
       "      <td>499.99</td>\n",
       "      <td>2199.91</td>\n",
       "      <td>1</td>\n",
       "      <td>49.99</td>\n",
       "      <td>...</td>\n",
       "      <td>11</td>\n",
       "      <td>58</td>\n",
       "      <td>2</td>\n",
       "      <td>61</td>\n",
       "      <td>5</td>\n",
       "      <td>8</td>\n",
       "      <td>4</td>\n",
       "      <td>10</td>\n",
       "      <td>695.228182</td>\n",
       "      <td>0</td>\n",
       "    </tr>\n",
       "    <tr>\n",
       "      <th>20</th>\n",
       "      <td>21</td>\n",
       "      <td>6</td>\n",
       "      <td>5</td>\n",
       "      <td>152401.00</td>\n",
       "      <td>3</td>\n",
       "      <td>14.99</td>\n",
       "      <td>14.99</td>\n",
       "      <td>44.97</td>\n",
       "      <td>1</td>\n",
       "      <td>14.99</td>\n",
       "      <td>...</td>\n",
       "      <td>34</td>\n",
       "      <td>51</td>\n",
       "      <td>2</td>\n",
       "      <td>23</td>\n",
       "      <td>3</td>\n",
       "      <td>6</td>\n",
       "      <td>1</td>\n",
       "      <td>2</td>\n",
       "      <td>50800.333333</td>\n",
       "      <td>1</td>\n",
       "    </tr>\n",
       "    <tr>\n",
       "      <th>27</th>\n",
       "      <td>28</td>\n",
       "      <td>6</td>\n",
       "      <td>5</td>\n",
       "      <td>660644.00</td>\n",
       "      <td>23</td>\n",
       "      <td>14.99</td>\n",
       "      <td>33.99</td>\n",
       "      <td>617.77</td>\n",
       "      <td>3</td>\n",
       "      <td>24.99</td>\n",
       "      <td>...</td>\n",
       "      <td>8</td>\n",
       "      <td>31</td>\n",
       "      <td>2</td>\n",
       "      <td>109</td>\n",
       "      <td>3</td>\n",
       "      <td>9</td>\n",
       "      <td>1</td>\n",
       "      <td>20</td>\n",
       "      <td>28723.652174</td>\n",
       "      <td>1</td>\n",
       "    </tr>\n",
       "    <tr>\n",
       "      <th>31</th>\n",
       "      <td>32</td>\n",
       "      <td>6</td>\n",
       "      <td>5</td>\n",
       "      <td>454355.00</td>\n",
       "      <td>5</td>\n",
       "      <td>139.99</td>\n",
       "      <td>139.99</td>\n",
       "      <td>699.95</td>\n",
       "      <td>1</td>\n",
       "      <td>139.99</td>\n",
       "      <td>...</td>\n",
       "      <td>1</td>\n",
       "      <td>53</td>\n",
       "      <td>2</td>\n",
       "      <td>22</td>\n",
       "      <td>5</td>\n",
       "      <td>13</td>\n",
       "      <td>2</td>\n",
       "      <td>4</td>\n",
       "      <td>90871.000000</td>\n",
       "      <td>1</td>\n",
       "    </tr>\n",
       "    <tr>\n",
       "      <th>39</th>\n",
       "      <td>40</td>\n",
       "      <td>6</td>\n",
       "      <td>5</td>\n",
       "      <td>584185.00</td>\n",
       "      <td>13</td>\n",
       "      <td>14.99</td>\n",
       "      <td>79.99</td>\n",
       "      <td>294.91</td>\n",
       "      <td>1</td>\n",
       "      <td>29.99</td>\n",
       "      <td>...</td>\n",
       "      <td>14</td>\n",
       "      <td>68</td>\n",
       "      <td>1</td>\n",
       "      <td>12</td>\n",
       "      <td>0</td>\n",
       "      <td>9</td>\n",
       "      <td>1</td>\n",
       "      <td>12</td>\n",
       "      <td>44937.307692</td>\n",
       "      <td>0</td>\n",
       "    </tr>\n",
       "    <tr>\n",
       "      <th>...</th>\n",
       "      <td>...</td>\n",
       "      <td>...</td>\n",
       "      <td>...</td>\n",
       "      <td>...</td>\n",
       "      <td>...</td>\n",
       "      <td>...</td>\n",
       "      <td>...</td>\n",
       "      <td>...</td>\n",
       "      <td>...</td>\n",
       "      <td>...</td>\n",
       "      <td>...</td>\n",
       "      <td>...</td>\n",
       "      <td>...</td>\n",
       "      <td>...</td>\n",
       "      <td>...</td>\n",
       "      <td>...</td>\n",
       "      <td>...</td>\n",
       "      <td>...</td>\n",
       "      <td>...</td>\n",
       "      <td>...</td>\n",
       "      <td>...</td>\n",
       "    </tr>\n",
       "    <tr>\n",
       "      <th>49945</th>\n",
       "      <td>49946</td>\n",
       "      <td>18</td>\n",
       "      <td>7</td>\n",
       "      <td>239442.00</td>\n",
       "      <td>3</td>\n",
       "      <td>279.99</td>\n",
       "      <td>449.99</td>\n",
       "      <td>1009.97</td>\n",
       "      <td>1</td>\n",
       "      <td>279.99</td>\n",
       "      <td>...</td>\n",
       "      <td>8</td>\n",
       "      <td>24</td>\n",
       "      <td>1</td>\n",
       "      <td>20</td>\n",
       "      <td>0</td>\n",
       "      <td>4</td>\n",
       "      <td>1</td>\n",
       "      <td>2</td>\n",
       "      <td>79814.000000</td>\n",
       "      <td>0</td>\n",
       "    </tr>\n",
       "    <tr>\n",
       "      <th>49958</th>\n",
       "      <td>49959</td>\n",
       "      <td>18</td>\n",
       "      <td>7</td>\n",
       "      <td>4230592.00</td>\n",
       "      <td>51</td>\n",
       "      <td>1.0</td>\n",
       "      <td>20.0</td>\n",
       "      <td>472.92</td>\n",
       "      <td>3</td>\n",
       "      <td>3.0</td>\n",
       "      <td>...</td>\n",
       "      <td>26</td>\n",
       "      <td>48</td>\n",
       "      <td>2</td>\n",
       "      <td>36</td>\n",
       "      <td>14</td>\n",
       "      <td>25</td>\n",
       "      <td>4</td>\n",
       "      <td>48</td>\n",
       "      <td>82952.784314</td>\n",
       "      <td>0</td>\n",
       "    </tr>\n",
       "    <tr>\n",
       "      <th>49974</th>\n",
       "      <td>49975</td>\n",
       "      <td>18</td>\n",
       "      <td>7</td>\n",
       "      <td>1183038.00</td>\n",
       "      <td>17</td>\n",
       "      <td>5.0</td>\n",
       "      <td>199.99</td>\n",
       "      <td>430.9</td>\n",
       "      <td>4</td>\n",
       "      <td>9.99</td>\n",
       "      <td>...</td>\n",
       "      <td>0</td>\n",
       "      <td>47</td>\n",
       "      <td>2</td>\n",
       "      <td>488</td>\n",
       "      <td>9</td>\n",
       "      <td>20</td>\n",
       "      <td>3</td>\n",
       "      <td>13</td>\n",
       "      <td>69590.470588</td>\n",
       "      <td>1</td>\n",
       "    </tr>\n",
       "    <tr>\n",
       "      <th>49986</th>\n",
       "      <td>49987</td>\n",
       "      <td>18</td>\n",
       "      <td>7</td>\n",
       "      <td>336.39</td>\n",
       "      <td>13</td>\n",
       "      <td>19.99</td>\n",
       "      <td>199.99</td>\n",
       "      <td>239.97</td>\n",
       "      <td>1</td>\n",
       "      <td>19.99</td>\n",
       "      <td>...</td>\n",
       "      <td>29</td>\n",
       "      <td>43</td>\n",
       "      <td>2</td>\n",
       "      <td>7</td>\n",
       "      <td>3</td>\n",
       "      <td>5</td>\n",
       "      <td>1</td>\n",
       "      <td>12</td>\n",
       "      <td>25.876154</td>\n",
       "      <td>1</td>\n",
       "    </tr>\n",
       "    <tr>\n",
       "      <th>49992</th>\n",
       "      <td>49993</td>\n",
       "      <td>18</td>\n",
       "      <td>7</td>\n",
       "      <td>4113213.00</td>\n",
       "      <td>69</td>\n",
       "      <td>9.99</td>\n",
       "      <td>24.99</td>\n",
       "      <td>971.31</td>\n",
       "      <td>15</td>\n",
       "      <td>9.99</td>\n",
       "      <td>...</td>\n",
       "      <td>0</td>\n",
       "      <td>54</td>\n",
       "      <td>2</td>\n",
       "      <td>45</td>\n",
       "      <td>0</td>\n",
       "      <td>44</td>\n",
       "      <td>2</td>\n",
       "      <td>54</td>\n",
       "      <td>59611.782609</td>\n",
       "      <td>0</td>\n",
       "    </tr>\n",
       "  </tbody>\n",
       "</table>\n",
       "<p>6572 rows × 28 columns</p>\n",
       "</div>"
      ],
      "text/plain": [
       "       sessionNo  startHour  startWeekday    duration  cCount cMinPrice  \\\n",
       "19            20          6             5     7647.51      11     49.99   \n",
       "20            21          6             5   152401.00       3     14.99   \n",
       "27            28          6             5   660644.00      23     14.99   \n",
       "31            32          6             5   454355.00       5    139.99   \n",
       "39            40          6             5   584185.00      13     14.99   \n",
       "...          ...        ...           ...         ...     ...       ...   \n",
       "49945      49946         18             7   239442.00       3    279.99   \n",
       "49958      49959         18             7  4230592.00      51       1.0   \n",
       "49974      49975         18             7  1183038.00      17       5.0   \n",
       "49986      49987         18             7      336.39      13     19.99   \n",
       "49992      49993         18             7  4113213.00      69      9.99   \n",
       "\n",
       "      cMaxPrice cSumPrice  bCount bMinPrice  ... payments age address  \\\n",
       "19       499.99   2199.91       1     49.99  ...       11  58       2   \n",
       "20        14.99     44.97       1     14.99  ...       34  51       2   \n",
       "27        33.99    617.77       3     24.99  ...        8  31       2   \n",
       "31       139.99    699.95       1    139.99  ...        1  53       2   \n",
       "39        79.99    294.91       1     29.99  ...       14  68       1   \n",
       "...         ...       ...     ...       ...  ...      ...  ..     ...   \n",
       "49945    449.99   1009.97       1    279.99  ...        8  24       1   \n",
       "49958      20.0    472.92       3       3.0  ...       26  48       2   \n",
       "49974    199.99     430.9       4      9.99  ...        0  47       2   \n",
       "49986    199.99    239.97       1     19.99  ...       29  43       2   \n",
       "49992     24.99    971.31      15      9.99  ...        0  54       2   \n",
       "\n",
       "       lastOrder  bStep_count countLog modes diffCounts      durCount order  \n",
       "19            61            5        8     4         10    695.228182     0  \n",
       "20            23            3        6     1          2  50800.333333     1  \n",
       "27           109            3        9     1         20  28723.652174     1  \n",
       "31            22            5       13     2          4  90871.000000     1  \n",
       "39            12            0        9     1         12  44937.307692     0  \n",
       "...          ...          ...      ...   ...        ...           ...   ...  \n",
       "49945         20            0        4     1          2  79814.000000     0  \n",
       "49958         36           14       25     4         48  82952.784314     0  \n",
       "49974        488            9       20     3         13  69590.470588     1  \n",
       "49986          7            3        5     1         12     25.876154     1  \n",
       "49992         45            0       44     2         54  59611.782609     0  \n",
       "\n",
       "[6572 rows x 28 columns]"
      ]
     },
     "execution_count": 25,
     "metadata": {},
     "output_type": "execute_result"
    }
   ],
   "source": [
    "datas[7]"
   ]
  },
  {
   "cell_type": "code",
   "execution_count": null,
   "metadata": {},
   "outputs": [],
   "source": [
    "#datas\n",
    "for dt in datas:\n",
    "    dt = dt.astype(float)"
   ]
  },
  {
   "cell_type": "code",
   "execution_count": null,
   "metadata": {},
   "outputs": [],
   "source": [
    "#Finish\n",
    "datas[7].to_csv(\"datas_0.csv\")"
   ]
  },
  {
   "cell_type": "markdown",
   "metadata": {},
   "source": [
    "### Avaliando conjunto de Dados\n",
    "\n",
    "Nesta sessão, será escolhido dentre as bases de dados, a que se comporta melhor para classificação. A métrica utilizada é a área da curva roc. A base de dados que obtiver a melhor área ROC será a utilizada na próxima etapa."
   ]
  },
  {
   "cell_type": "code",
   "execution_count": null,
   "metadata": {},
   "outputs": [],
   "source": [
    "model = [0]*8 ## serão guardados os models\n",
    "roc_s = [0]*8 ## serao guardados os scores de curva roc\n",
    "roc_c = [0]*8 ## serao guardados as curvas roc"
   ]
  },
  {
   "cell_type": "code",
   "execution_count": null,
   "metadata": {},
   "outputs": [],
   "source": [
    "def applyRandomForrest(data):\n",
    "    # Separar os dados em entrada (X) e saida (Y)\n",
    "    Y = data.iloc[:,-1]\n",
    "    X = data.iloc[:,0:-1] # [:,0:-1]\n",
    "    \n",
    "    # Dividir os dados em treinamento e teste\n",
    "    X_train, X_test, Y_train, Y_test = train_test_split(X,Y, test_size = 0.40, random_state=42)\n",
    "    \n",
    "    # Criar e Treinar modelo\n",
    "    forest = RandomForestClassifier(n_estimators=10,max_features=5,criterion=\"entropy\")\n",
    "    model = forest.fit(X_train, Y_train)\n",
    "    \n",
    "    #Avaliando o modelo\n",
    "    Y_predict = model.predict(X_test)\n",
    "    score = roc_auc_score(Y_test,Y_predict)\n",
    "    roc = roc_curve(Y_test,Y_predict)\n",
    "    \n",
    "    return model, score,roc"
   ]
  },
  {
   "cell_type": "code",
   "execution_count": null,
   "metadata": {},
   "outputs": [],
   "source": [
    "for i in range(8):\n",
    "    model[i], roc_s[i], roc_c[i] = applyRandomForrest(datas[i])\n"
   ]
  },
  {
   "cell_type": "code",
   "execution_count": null,
   "metadata": {},
   "outputs": [],
   "source": [
    "plt.figure(1)\n",
    "plt.plot([0, 1], [0, 1], 'k--')\n",
    "for i in range(8):\n",
    "    fpr_rf, tpr_rf,_ = roc_c[i]\n",
    "    plt.plot(fpr_rf, tpr_rf, label='data-'+str(i))\n",
    "plt.xlabel('False positive rate')\n",
    "plt.ylabel('True positive rate')\n",
    "plt.title('ROC curve')\n",
    "plt.legend(loc='best')\n",
    "plt.show()"
   ]
  },
  {
   "cell_type": "code",
   "execution_count": null,
   "metadata": {},
   "outputs": [],
   "source": [
    "#selecionando a melhor base\n",
    "data_index = roc_s.index(max(roc_s))"
   ]
  },
  {
   "cell_type": "code",
   "execution_count": null,
   "metadata": {},
   "outputs": [],
   "source": [
    "data_index"
   ]
  },
  {
   "cell_type": "markdown",
   "metadata": {},
   "source": [
    "### Avaliando modelo Escolhido\n",
    "Isso nos faz perceber apenas que ele foi o melhor dentre os que fizemos. Isso significa que o melhor tratamento de missing value dentro do nosso tratamento total é justamente os tratamentos:\n",
    "##### Numerico \n",
    "Excluir Linha\n",
    "##### Nominal\n",
    "Substituir pela Moda\n",
    "\n",
    "Sendo assim, para avaliar o modelo, faremos os mesmos processos para o conjunto de validação da competição\n",
    "criando as 5 variáveis, mudando a glanularidade e tratando os missing-values da mesma forma.\n",
    "O resultado será a nossa pontuação na competição"
   ]
  },
  {
   "cell_type": "code",
   "execution_count": null,
   "metadata": {},
   "outputs": [],
   "source": [
    "validation_data = pd.read_csv(\"transact_class.csv\")"
   ]
  },
  {
   "cell_type": "code",
   "execution_count": null,
   "metadata": {},
   "outputs": [],
   "source": [
    "# Tratamento de igual modo\n",
    "\n",
    "# Dividindo sessoes\n",
    "validation_splited = groupData(validation_data,\"sessionNo\")\n",
    "\n",
    "# Criando as 5 variaveis\n",
    "validation_fields = [0]*5\n",
    "\n",
    "# Variaveis de granularidade #bStep_count #countLog #modes\n",
    "validation_fields[0],validation_fields[1],validation_fields[2] = granul_fields(validation_splited)\n",
    "\n",
    "# Mudando a granularidade\n",
    "validation_data = granul_change(validation_data)\n",
    "\n",
    "# Variaveis de correlação #diffCounts #durCount\n",
    "validation_fields[3],validation_fields[4] = correlation_fields(validation_data)\n",
    "\n",
    "# Mudando de nominal para numero (sem a Order)\n",
    "validation_data = nominal_to_number(validation_data)\n",
    "\n",
    "# Inserindo variáveis no conjunto de dados\n",
    "validation_data = insert_column(validation_data,validation_fields,fields_name)\n",
    "\n",
    "# Removendo variaveis não utilizadas\n",
    "validation_data = remove_column(validation_data,['customerNo'])\n",
    "\n",
    "# Tratando MissingValues\n",
    "for var in varsNum: #Numéricas\n",
    "    removeMissing(validation_data, var)\n",
    "    \n",
    "for category in categories: #Categóricas\n",
    "    replaceMissingbyMode(validation_data, category)\n",
    "    \n",
    "#desencargo de consciência\n",
    "data = data.fillna(value=0)"
   ]
  },
  {
   "cell_type": "code",
   "execution_count": null,
   "metadata": {},
   "outputs": [],
   "source": [
    "order = model[data_index].predict(validation_data)"
   ]
  },
  {
   "cell_type": "code",
   "execution_count": null,
   "metadata": {},
   "outputs": [],
   "source": [
    "submit = pd.DataFrame({'sessionNo' : validation_data.iloc[:,0], 'order': order})"
   ]
  },
  {
   "cell_type": "code",
   "execution_count": null,
   "metadata": {},
   "outputs": [],
   "source": [
    "submit.loc[(submit.order == 1),'order']= 'y'\n",
    "submit.loc[(submit.order == 0),'order']= 'n'"
   ]
  },
  {
   "cell_type": "code",
   "execution_count": null,
   "metadata": {},
   "outputs": [],
   "source": [
    "submit"
   ]
  }
 ],
 "metadata": {
  "kernelspec": {
   "display_name": "Python 3",
   "language": "python",
   "name": "python3"
  },
  "language_info": {
   "codemirror_mode": {
    "name": "ipython",
    "version": 3
   },
   "file_extension": ".py",
   "mimetype": "text/x-python",
   "name": "python",
   "nbconvert_exporter": "python",
   "pygments_lexer": "ipython3",
   "version": "3.7.5"
  }
 },
 "nbformat": 4,
 "nbformat_minor": 2
}
