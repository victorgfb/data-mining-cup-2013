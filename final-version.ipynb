{
 "cells": [
  {
   "cell_type": "markdown",
   "metadata": {},
   "source": [
    "# Inteligência Computacional"
   ]
  },
  {
   "cell_type": "markdown",
   "metadata": {},
   "source": [
    "## Projeto DATA MINING CUP Competition 2013"
   ]
  },
  {
   "cell_type": "code",
   "execution_count": 426,
   "metadata": {},
   "outputs": [],
   "source": [
    "import pandas as pd\n",
    "\n",
    "from copy import deepcopy\n",
    "\n",
    "from sklearn.model_selection import train_test_split\n",
    "from sklearn.ensemble import RandomForestClassifier\n",
    "from sklearn.metrics import roc_curve,roc_auc_score\n",
    "import matplotlib.pyplot as plt"
   ]
  },
  {
   "cell_type": "code",
   "execution_count": 427,
   "metadata": {},
   "outputs": [],
   "source": [
    "data = pd.read_csv('transact_train.csv')"
   ]
  },
  {
   "cell_type": "markdown",
   "metadata": {},
   "source": [
    "## Tratando Granularidade e Criando Variáveis"
   ]
  },
  {
   "cell_type": "markdown",
   "metadata": {},
   "source": [
    "### Agrupando Dados\n",
    "agrupando todos os dataframes separados por sessionNo em um vetor"
   ]
  },
  {
   "cell_type": "code",
   "execution_count": 428,
   "metadata": {},
   "outputs": [],
   "source": [
    "def groupData(data, field):\n",
    "    group = data[field]\n",
    "    agg = data.groupby([group])\n",
    "    splited = []\n",
    "    for group in agg:\n",
    "        splited.append(pd.DataFrame(data = group[1], columns=data.columns.values))\n",
    "    return splited\n"
   ]
  },
  {
   "cell_type": "code",
   "execution_count": 429,
   "metadata": {},
   "outputs": [],
   "source": [
    "splited = groupData(data,\"sessionNo\")\n",
    "# vetor de dataframes separados por sessionNo\n",
    "#splited[2]"
   ]
  },
  {
   "cell_type": "markdown",
   "metadata": {},
   "source": [
    "### Criando Variáveis da mudança de granularidade\n",
    "Essas são as variáveis que criamos buscando recuperar dados perdidos na mudança da granularidade\n",
    "##### bStep_count\n",
    "    Quantidade de bStep maiores que 3 de cada sessão\n",
    "##### countLog\n",
    "    Numero de log de cada sessão\n",
    "##### modes\n",
    "    Moda do bStep de cada Sessão."
   ]
  },
  {
   "cell_type": "code",
   "execution_count": 430,
   "metadata": {},
   "outputs": [],
   "source": [
    "def granul_fields(splited):\n",
    "    bStep_count = []\n",
    "    countLog = []\n",
    "    modes = []\n",
    "    for session in splited:\n",
    "        countStep = 0\n",
    "        countLog.append(len(session))\n",
    "        modes.append(session['bStep'].mode()[0])\n",
    "        for j in range(len(session)):\n",
    "            if(session['bStep'].iloc[j] != \"?\" and int(session['bStep'].iloc[j]) >= 3):\n",
    "                countStep +=1\n",
    "        bStep_count.append(countStep)\n",
    "    return bStep_count,countLog,modes"
   ]
  },
  {
   "cell_type": "code",
   "execution_count": 431,
   "metadata": {},
   "outputs": [],
   "source": [
    "bStep_count,countLog,modes = granul_fields(splited)\n",
    "#bStep_count\n",
    "#countLog\n",
    "#modes"
   ]
  },
  {
   "cell_type": "markdown",
   "metadata": {},
   "source": [
    "### Mudando Granularidade"
   ]
  },
  {
   "cell_type": "code",
   "execution_count": 432,
   "metadata": {},
   "outputs": [],
   "source": [
    "#Mudando a granularidade\n",
    "def granul_change(data):\n",
    "    return data.groupby(['sessionNo'], as_index=False).last()\n",
    "\n",
    "data = granul_change(data)"
   ]
  },
  {
   "cell_type": "markdown",
   "metadata": {},
   "source": [
    "### Criando Variáveis de Correlação\n",
    "\n",
    "As técnicas de inteligência artificial pressupõem que as variáveis não têm correlação entre si, apenas relação direta com a variável alvo.\n",
    "\n",
    "Essas são as variáveis que criamos buscando informar uma correlação entre variáveis\n",
    "##### diffCounts\n",
    "    diferença entre cCount e bCount\n",
    "##### durCount\n",
    "    Razão entre a duração e o Ccount"
   ]
  },
  {
   "cell_type": "code",
   "execution_count": 433,
   "metadata": {},
   "outputs": [],
   "source": [
    "def correlation_fields(data):\n",
    "    # diffCounts\n",
    "    diffCounts = (data['cCount']-data['bCount']).values\n",
    "\n",
    "    # durCount\n",
    "    durCount = (data['duration']/data['cCount'])\n",
    "    durCount = durCount.replace(float(\"inf\"), \"?\", regex=False).values\n",
    "    # Testar depois com outros valores para tratar o inf\n",
    "    return diffCounts,durCount"
   ]
  },
  {
   "cell_type": "code",
   "execution_count": 434,
   "metadata": {},
   "outputs": [],
   "source": [
    "diffCounts,durCount = correlation_fields(data)\n",
    "#diffCounts\n",
    "#durCount"
   ]
  },
  {
   "cell_type": "markdown",
   "metadata": {},
   "source": [
    "### Atribuindo numeros às classes\n",
    "Buscando melhorar o processamento, transformamos todos os nomes de classe para numeros, numa sequencia de 0 ao numero de classes -1 para cada classe diferente."
   ]
  },
  {
   "cell_type": "code",
   "execution_count": 435,
   "metadata": {},
   "outputs": [],
   "source": [
    "##Ver os valores diferentes de availability\n",
    "#data.groupby(['availability'], as_index=False).last()\n",
    "\n",
    "##Ver os valores diferentes de onlineStatus\n",
    "#data.groupby(['onlineStatus'], as_index=False).last()\n",
    "\n",
    "##Ver os valores diferentes de order\n",
    "#data.groupby(['order'], as_index=False).last()"
   ]
  },
  {
   "cell_type": "code",
   "execution_count": 436,
   "metadata": {},
   "outputs": [],
   "source": [
    "def nominal_to_number(data):\n",
    "    # availability\n",
    "    data.loc[(data.availability == 'completely not determinable'),'availability']= 0\n",
    "    data.loc[(data.availability == 'completely not orderable'),'availability']= 1\n",
    "    data.loc[(data.availability == 'completely orderable'),'availability']= 2\n",
    "    data.loc[(data.availability == 'mainly not determinable'),'availability']= 3\n",
    "    data.loc[(data.availability == 'mainly not orderable'),'availability']= 4\n",
    "    data.loc[(data.availability == 'mainly orderable'),'availability']= 5\n",
    "    data.loc[(data.availability == 'mixed'),'availability']= 6\n",
    "    \n",
    "    # onlineStatus\n",
    "    data.loc[(data.onlineStatus == 'y'),'onlineStatus']= 1\n",
    "    data.loc[(data.onlineStatus == 'n'),'onlineStatus']= 0\n",
    "    \n",
    "    return data"
   ]
  },
  {
   "cell_type": "code",
   "execution_count": 437,
   "metadata": {},
   "outputs": [],
   "source": [
    "data = nominal_to_number(data)\n",
    "\n",
    "# order (está fora porque a etapa que reutiliza esta função não converte a order)\n",
    "data.loc[(data.order == 'y'),'order']= 1\n",
    "data.loc[(data.order == 'n'),'order']= 0"
   ]
  },
  {
   "cell_type": "markdown",
   "metadata": {},
   "source": [
    "### Inserindo as colunas das variáveis criadas\n",
    "Com as variáveis criadas, adicionamos ao conjunto de dados com a granularidade já alterada."
   ]
  },
  {
   "cell_type": "code",
   "execution_count": 438,
   "metadata": {},
   "outputs": [],
   "source": [
    "def insert_column (data,fields,fields_name):\n",
    "    index = len(data.columns)-1\n",
    "    for i in range(len(fields)):\n",
    "        data.insert(index + i,fields_name[i],fields[i],True)\n",
    "    return data"
   ]
  },
  {
   "cell_type": "code",
   "execution_count": 439,
   "metadata": {},
   "outputs": [],
   "source": [
    "def remove_column(data, fields_name):\n",
    "    for i in fields_name:\n",
    "        data.drop(i, inplace=True, axis=1)\n",
    "    return data"
   ]
  },
  {
   "cell_type": "code",
   "execution_count": 440,
   "metadata": {},
   "outputs": [],
   "source": [
    "fields = [bStep_count,countLog,modes,diffCounts,durCount]\n",
    "fields_name = ['bStep_count','countLog','modes','diffCounts','durCount']\n",
    "data = insert_column(data,fields,fields_name)\n",
    "\n",
    "data = remove_column(data,['customerNo'])\n",
    "data = data.fillna(value=0)"
   ]
  },
  {
   "cell_type": "code",
   "execution_count": 441,
   "metadata": {},
   "outputs": [],
   "source": [
    "#data"
   ]
  },
  {
   "cell_type": "markdown",
   "metadata": {},
   "source": [
    "### Tratando Missing Values"
   ]
  },
  {
   "cell_type": "code",
   "execution_count": 442,
   "metadata": {},
   "outputs": [],
   "source": [
    "backupData = deepcopy(data) #data é minimo com moda\n",
    "data2 = deepcopy(data) # minimo com New\n",
    "data3 = deepcopy(data) # maximo com moda\n",
    "data4 = deepcopy(data) # maximo com New\n",
    "data5 = deepcopy(data) # media com moda\n",
    "data6 = deepcopy(data) # media com New\n",
    "data7 = deepcopy(data) # exclusão com moda\n",
    "data8 = deepcopy(data) # exclusão com New"
   ]
  },
  {
   "cell_type": "code",
   "execution_count": 443,
   "metadata": {},
   "outputs": [],
   "source": [
    "#definindo funções para variáveis numéricas:\n",
    "def replaceMissingbyMin(data, field):\n",
    "    if(field == 'durCount'):\n",
    "        mini = data['durCount'].mask(data['durCount'] == '?').min()\n",
    "    else:\n",
    "        mini = data[field].min()\n",
    "    data[field] = data[field].replace('?', mini, regex=False)\n",
    "    \n",
    "def replaceMissingbyMax(data, field):\n",
    "    maxi = data[data[field]!=\"?\"][field].max()\n",
    "    data[field] = data[field].replace('?', maxi, regex=False)\n",
    "\n",
    "def replaceMissingbyMedian(data, field):\n",
    "    median = data[data[field]!=\"?\"][field].median()\n",
    "    data[field] = data[field].replace('?', median, regex=False)\n",
    "    \n",
    "def removeMissing(data, field):\n",
    "    data[field] = data[field].replace('?', float(\"NaN\"))\n",
    "    data.dropna(axis='index', inplace = True)\n",
    "    #for i in range(len(data)):\n",
    "    #    row = data.iloc[i]\n",
    "    #    print(i)\n",
    "    #    if(row[field] == '?'):\n",
    "    #        data.drop([i], axis=0)\n",
    "     #retorna o dataframe onde não tem nenhuma '?'\n",
    "    "
   ]
  },
  {
   "cell_type": "code",
   "execution_count": 444,
   "metadata": {
    "scrolled": true
   },
   "outputs": [
    {
     "name": "stderr",
     "output_type": "stream",
     "text": [
      "/home/victor/.local/lib/python3.7/site-packages/pandas/core/ops/__init__.py:1115: FutureWarning: elementwise comparison failed; returning scalar instead, but in the future will perform elementwise comparison\n",
      "  result = method(y)\n"
     ]
    }
   ],
   "source": [
    "#Tratando os missing values numéricos nos dataframes:\n",
    "varsNum = ['cMinPrice', 'cMaxPrice', 'cSumPrice', 'bMinPrice', 'bMaxPrice', 'bSumPrice', 'bStep', 'maxVal', \n",
    "           'customerScore', 'accountLifetime', 'payments', 'age', 'lastOrder',\"bStep_count\", \"modes\" , \"countLog\" , \"diffCounts\", \"durCount\"]\n",
    "\n",
    "for var in varsNum:\n",
    "    replaceMissingbyMin(data, var)\n",
    "    replaceMissingbyMin(data2, var)\n",
    "    replaceMissingbyMax(data3, var)\n",
    "    replaceMissingbyMax(data4, var)\n",
    "    replaceMissingbyMedian(data5, var)\n",
    "    replaceMissingbyMedian(data6, var)\n",
    "    removeMissing(data7, var)\n",
    "    removeMissing(data8, var)"
   ]
  },
  {
   "cell_type": "code",
   "execution_count": 445,
   "metadata": {},
   "outputs": [],
   "source": [
    "#definindo funções para variáveis categóricas:\n",
    "def replaceMissingbyMode(data, field):\n",
    "    mode = data[field].mode()\n",
    "    if((mode == '?').bool()):\n",
    "        mode = data[field].value_counts().index[1]\n",
    "    data[field] = data[field].replace('?', mode[0], regex=False)\n",
    "    \n",
    "def replaceMissingbyNew(data, field):\n",
    "    data[field] = data[field].replace('?', -1, regex=False)"
   ]
  },
  {
   "cell_type": "code",
   "execution_count": 446,
   "metadata": {},
   "outputs": [],
   "source": [
    "categories = ['onlineStatus', 'availability', 'address']\n",
    "for category in categories:\n",
    "    replaceMissingbyMode(data, category)\n",
    "    replaceMissingbyMode(data3, category)\n",
    "    replaceMissingbyMode(data5, category)\n",
    "    replaceMissingbyMode(data7, category)\n",
    "    replaceMissingbyNew(data2, category)\n",
    "    replaceMissingbyNew(data4, category)\n",
    "    replaceMissingbyNew(data6, category)\n",
    "    replaceMissingbyNew(data8, category)"
   ]
  },
  {
   "cell_type": "code",
   "execution_count": 447,
   "metadata": {},
   "outputs": [],
   "source": [
    "#Salva a tabela\n",
    "datas = [data, data2, data3, data4, data5, data6, data7, data8]\n",
    "data = deepcopy(backupData)"
   ]
  },
  {
   "cell_type": "code",
   "execution_count": 448,
   "metadata": {},
   "outputs": [],
   "source": [
    "#Finish\n",
    "datas[7].to_csv(\"datas_0.csv\")"
   ]
  },
  {
   "cell_type": "markdown",
   "metadata": {},
   "source": [
    "### Avaliando conjunto de Dados\n",
    "\n",
    "Nesta sessão, será escolhido dentre as bases de dados, a que se comporta melhor para classificação. A métrica utilizada é a área da curva roc. A base de dados que obtiver a melhor área ROC será a utilizada na próxima etapa."
   ]
  },
  {
   "cell_type": "code",
   "execution_count": 449,
   "metadata": {},
   "outputs": [],
   "source": [
    "model = [0]*8 ## serão guardados os models\n",
    "roc_s = [0]*8 ## serao guardados os scores de curva roc\n",
    "roc_c = [0]*8 ## serao guardados as curvas roc"
   ]
  },
  {
   "cell_type": "code",
   "execution_count": null,
   "metadata": {},
   "outputs": [],
   "source": []
  },
  {
   "cell_type": "code",
   "execution_count": 450,
   "metadata": {},
   "outputs": [],
   "source": [
    "def applyRandomForrest(data):\n",
    "    # Separar os dados em entrada (X) e saida (Y)\n",
    "    Y = data.iloc[:,-1]\n",
    "    X = data.iloc[:,0:-1] # [:,0:-1]\n",
    "    \n",
    "    # Dividir os dados em treinamento e teste\n",
    "    X_train, X_test, Y_train, Y_test = train_test_split(X,Y, test_size = 0.33, random_state=42)\n",
    "    \n",
    "    # Criar e Treinar modelo\n",
    "    forest = RandomForestClassifier(n_estimators=10,max_features=5,criterion=\"entropy\")\n",
    "    model = forest.fit(X_train, Y_train)\n",
    "    \n",
    "    #Avaliando o modelo\n",
    "    Y_predict = model.predict(X_test)\n",
    "    score = roc_auc_score(Y_test,Y_predict)\n",
    "    roc = roc_curve(Y_test,Y_predict)\n",
    "    \n",
    "    return model, score,roc"
   ]
  },
  {
   "cell_type": "code",
   "execution_count": 451,
   "metadata": {},
   "outputs": [],
   "source": [
    "for i in range(8):\n",
    "    model[i], roc_s[i], roc_c[i] = applyRandomForrest(datas[i])\n"
   ]
  },
  {
   "cell_type": "code",
   "execution_count": 452,
   "metadata": {},
   "outputs": [
    {
     "data": {
      "image/png": "[encoded data removed]",
      "text/plain": [
       "<Figure size 432x288 with 1 Axes>"
      ]
     },
     "metadata": {
      "needs_background": "light"
     },
     "output_type": "display_data"
    }
   ],
   "source": [
    "plt.figure(1)\n",
    "plt.plot([0, 1], [0, 1], 'k--')\n",
    "for i in range(8):\n",
    "    fpr_rf, tpr_rf,_ = roc_c[i]\n",
    "    plt.plot(fpr_rf, tpr_rf, label='data-'+str(i))\n",
    "plt.xlabel('False positive rate')\n",
    "plt.ylabel('True positive rate')\n",
    "plt.title('ROC curve')\n",
    "plt.legend(loc='best')\n",
    "plt.show()"
   ]
  },
  {
   "cell_type": "code",
   "execution_count": 453,
   "metadata": {},
   "outputs": [],
   "source": [
    "#selecionando a melhor base\n",
    "data_index = roc_s.index(max(roc_s))"
   ]
  },
  {
   "cell_type": "code",
   "execution_count": 454,
   "metadata": {},
   "outputs": [
    {
     "data": {
      "text/html": [
       "<div>\n",
       "<style scoped>\n",
       "    .dataframe tbody tr th:only-of-type {\n",
       "        vertical-align: middle;\n",
       "    }\n",
       "\n",
       "    .dataframe tbody tr th {\n",
       "        vertical-align: top;\n",
       "    }\n",
       "\n",
       "    .dataframe thead th {\n",
       "        text-align: right;\n",
       "    }\n",
       "</style>\n",
       "<table border=\"1\" class=\"dataframe\">\n",
       "  <thead>\n",
       "    <tr style=\"text-align: right;\">\n",
       "      <th></th>\n",
       "      <th>Roc Score</th>\n",
       "    </tr>\n",
       "  </thead>\n",
       "  <tbody>\n",
       "    <tr>\n",
       "      <th>0</th>\n",
       "      <td>0.893227</td>\n",
       "    </tr>\n",
       "    <tr>\n",
       "      <th>1</th>\n",
       "      <td>0.915350</td>\n",
       "    </tr>\n",
       "    <tr>\n",
       "      <th>2</th>\n",
       "      <td>0.951857</td>\n",
       "    </tr>\n",
       "    <tr>\n",
       "      <th>3</th>\n",
       "      <td>0.968937</td>\n",
       "    </tr>\n",
       "    <tr>\n",
       "      <th>4</th>\n",
       "      <td>0.935609</td>\n",
       "    </tr>\n",
       "    <tr>\n",
       "      <th>5</th>\n",
       "      <td>0.953630</td>\n",
       "    </tr>\n",
       "    <tr>\n",
       "      <th>6</th>\n",
       "      <td>0.970523</td>\n",
       "    </tr>\n",
       "    <tr>\n",
       "      <th>7</th>\n",
       "      <td>0.971935</td>\n",
       "    </tr>\n",
       "  </tbody>\n",
       "</table>\n",
       "</div>"
      ],
      "text/plain": [
       "   Roc Score\n",
       "0   0.893227\n",
       "1   0.915350\n",
       "2   0.951857\n",
       "3   0.968937\n",
       "4   0.935609\n",
       "5   0.953630\n",
       "6   0.970523\n",
       "7   0.971935"
      ]
     },
     "execution_count": 454,
     "metadata": {},
     "output_type": "execute_result"
    }
   ],
   "source": [
    "pd.DataFrame({\"Roc Score\":roc_s})"
   ]
  },
  {
   "cell_type": "code",
   "execution_count": 455,
   "metadata": {},
   "outputs": [
    {
     "data": {
      "text/plain": [
       "7"
      ]
     },
     "execution_count": 455,
     "metadata": {},
     "output_type": "execute_result"
    }
   ],
   "source": [
    "data_index"
   ]
  },
  {
   "cell_type": "markdown",
   "metadata": {},
   "source": [
    "### Submetendo modelo Escolhido\n",
    "Isso nos faz perceber apenas que ele foi o melhor dentre os que fizemos. Isso significa que o melhor tratamento de missing value dentro do nosso tratamento total é justamente os tratamentos:\n",
    "##### Numerico \n",
    "remover linha\n",
    "##### Nominal\n",
    "Criar classe\n",
    "\n",
    "Contudo, a remoção da linha não cabe para a validação, já que é preciso gerar uma resposta para cada linha\n",
    "Por isso, o tratamento de missing values numericos não será o de remoção e sim o catalogado como segundo melhor, que foi o de máximo na base de dados 3, e esse conjunto de dados será aplicado ao modelo de maior taxa de acerto, que foi onde os valores foram removidos\n",
    "\n",
    "##### Numerico \n",
    "substituir pelo maximo\n",
    "##### Nominal\n",
    "Criar classe\n",
    "\n",
    "\n",
    "Sendo assim, para avaliar o modelo, faremos os mesmos processos para o conjunto de validação da competição\n",
    "criando as 5 variáveis, mudando a glanularidade e tratando os missing-values da mesma forma.\n",
    "O resultado será a nossa pontuação na competição"
   ]
  },
  {
   "cell_type": "code",
   "execution_count": 456,
   "metadata": {},
   "outputs": [],
   "source": [
    "validation_data = pd.read_csv(\"transact_class.csv\")"
   ]
  },
  {
   "cell_type": "code",
   "execution_count": 457,
   "metadata": {},
   "outputs": [
    {
     "name": "stderr",
     "output_type": "stream",
     "text": [
      "/home/victor/.local/lib/python3.7/site-packages/pandas/core/ops/__init__.py:1115: FutureWarning: elementwise comparison failed; returning scalar instead, but in the future will perform elementwise comparison\n",
      "  result = method(y)\n"
     ]
    }
   ],
   "source": [
    "# Tratamento de igual modo\n",
    "\n",
    "# Dividindo sessoes\n",
    "validation_splited = groupData(validation_data,\"sessionNo\")\n",
    "\n",
    "# Criando as 5 variaveis\n",
    "validation_fields = [0]*5\n",
    "\n",
    "# Variaveis de granularidade #bStep_count #countLog #modes\n",
    "validation_fields[0],validation_fields[1],validation_fields[2] = granul_fields(validation_splited)\n",
    "\n",
    "# Mudando a granularidade\n",
    "validation_data = granul_change(validation_data)\n",
    "\n",
    "# Variaveis de correlação #diffCounts #durCount\n",
    "validation_fields[3],validation_fields[4] = correlation_fields(validation_data)\n",
    "\n",
    "# Mudando de nominal para numero (sem a Order)\n",
    "validation_data = nominal_to_number(validation_data)\n",
    "\n",
    "# Inserindo variáveis no conjunto de dados\n",
    "validation_data = insert_column(validation_data,validation_fields,fields_name)\n",
    "\n",
    "# Removendo variaveis não utilizadas\n",
    "validation_data = remove_column(validation_data,['customerNo'])\n",
    "\n",
    "# Tratando MissingValues\n",
    "for var in varsNum: #Numéricas\n",
    "    replaceMissingbyMax(validation_data, var)\n",
    "    #removeMissing(validation_data, var)\n",
    "    \n",
    "for category in categories: #Categóricas\n",
    "    replaceMissingbyNew(validation_data, category)\n",
    "    \n",
    "#desencargo de consciência\n",
    "validation_data = validation_data.fillna(value=0)"
   ]
  },
  {
   "cell_type": "code",
   "execution_count": 458,
   "metadata": {},
   "outputs": [],
   "source": [
    "order = model[data_index].predict(validation_data)"
   ]
  },
  {
   "cell_type": "code",
   "execution_count": 459,
   "metadata": {},
   "outputs": [],
   "source": [
    "submit = pd.DataFrame({'sessionNo' : validation_data.iloc[:,0], 'order': order})"
   ]
  },
  {
   "cell_type": "markdown",
   "metadata": {},
   "source": [
    "### Avaliando submissão\n",
    "Importando agora o gabarito da base de dados de validação, poderemos avaliar a taxa de acerto do nosso modelo"
   ]
  },
  {
   "cell_type": "code",
   "execution_count": 460,
   "metadata": {},
   "outputs": [],
   "source": [
    "answer = pd.read_csv(\"realclass_t1.csv\")"
   ]
  },
  {
   "cell_type": "code",
   "execution_count": 461,
   "metadata": {},
   "outputs": [],
   "source": [
    "submit.insert(2,\"prediction\",answer[\"prediction\"],True)"
   ]
  },
  {
   "cell_type": "code",
   "execution_count": 462,
   "metadata": {},
   "outputs": [
    {
     "data": {
      "text/html": [
       "<div>\n",
       "<style scoped>\n",
       "    .dataframe tbody tr th:only-of-type {\n",
       "        vertical-align: middle;\n",
       "    }\n",
       "\n",
       "    .dataframe tbody tr th {\n",
       "        vertical-align: top;\n",
       "    }\n",
       "\n",
       "    .dataframe thead th {\n",
       "        text-align: right;\n",
       "    }\n",
       "</style>\n",
       "<table border=\"1\" class=\"dataframe\">\n",
       "  <thead>\n",
       "    <tr style=\"text-align: right;\">\n",
       "      <th></th>\n",
       "      <th>sessionNo</th>\n",
       "      <th>order</th>\n",
       "      <th>prediction</th>\n",
       "    </tr>\n",
       "  </thead>\n",
       "  <tbody>\n",
       "    <tr>\n",
       "      <th>0</th>\n",
       "      <td>1</td>\n",
       "      <td>1</td>\n",
       "      <td>1</td>\n",
       "    </tr>\n",
       "    <tr>\n",
       "      <th>1</th>\n",
       "      <td>2</td>\n",
       "      <td>1</td>\n",
       "      <td>1</td>\n",
       "    </tr>\n",
       "    <tr>\n",
       "      <th>2</th>\n",
       "      <td>3</td>\n",
       "      <td>1</td>\n",
       "      <td>1</td>\n",
       "    </tr>\n",
       "    <tr>\n",
       "      <th>3</th>\n",
       "      <td>4</td>\n",
       "      <td>1</td>\n",
       "      <td>0</td>\n",
       "    </tr>\n",
       "    <tr>\n",
       "      <th>4</th>\n",
       "      <td>5</td>\n",
       "      <td>0</td>\n",
       "      <td>0</td>\n",
       "    </tr>\n",
       "    <tr>\n",
       "      <th>...</th>\n",
       "      <td>...</td>\n",
       "      <td>...</td>\n",
       "      <td>...</td>\n",
       "    </tr>\n",
       "    <tr>\n",
       "      <th>5106</th>\n",
       "      <td>5107</td>\n",
       "      <td>0</td>\n",
       "      <td>0</td>\n",
       "    </tr>\n",
       "    <tr>\n",
       "      <th>5107</th>\n",
       "      <td>5108</td>\n",
       "      <td>0</td>\n",
       "      <td>0</td>\n",
       "    </tr>\n",
       "    <tr>\n",
       "      <th>5108</th>\n",
       "      <td>5109</td>\n",
       "      <td>1</td>\n",
       "      <td>1</td>\n",
       "    </tr>\n",
       "    <tr>\n",
       "      <th>5109</th>\n",
       "      <td>5110</td>\n",
       "      <td>1</td>\n",
       "      <td>0</td>\n",
       "    </tr>\n",
       "    <tr>\n",
       "      <th>5110</th>\n",
       "      <td>5111</td>\n",
       "      <td>1</td>\n",
       "      <td>0</td>\n",
       "    </tr>\n",
       "  </tbody>\n",
       "</table>\n",
       "<p>5111 rows × 3 columns</p>\n",
       "</div>"
      ],
      "text/plain": [
       "      sessionNo  order  prediction\n",
       "0             1      1           1\n",
       "1             2      1           1\n",
       "2             3      1           1\n",
       "3             4      1           0\n",
       "4             5      0           0\n",
       "...         ...    ...         ...\n",
       "5106       5107      0           0\n",
       "5107       5108      0           0\n",
       "5108       5109      1           1\n",
       "5109       5110      1           0\n",
       "5110       5111      1           0\n",
       "\n",
       "[5111 rows x 3 columns]"
      ]
     },
     "execution_count": 462,
     "metadata": {},
     "output_type": "execute_result"
    }
   ],
   "source": [
    "submit"
   ]
  },
  {
   "cell_type": "code",
   "execution_count": 463,
   "metadata": {},
   "outputs": [],
   "source": [
    "submit.insert(2,\"hit\",(submit['prediction']==submit['order']),True)"
   ]
  },
  {
   "cell_type": "code",
   "execution_count": 464,
   "metadata": {},
   "outputs": [],
   "source": [
    "no_creativity = submit.groupby(\"hit\").count()"
   ]
  },
  {
   "cell_type": "code",
   "execution_count": 465,
   "metadata": {},
   "outputs": [
    {
     "data": {
      "text/html": [
       "<div>\n",
       "<style scoped>\n",
       "    .dataframe tbody tr th:only-of-type {\n",
       "        vertical-align: middle;\n",
       "    }\n",
       "\n",
       "    .dataframe tbody tr th {\n",
       "        vertical-align: top;\n",
       "    }\n",
       "\n",
       "    .dataframe thead th {\n",
       "        text-align: right;\n",
       "    }\n",
       "</style>\n",
       "<table border=\"1\" class=\"dataframe\">\n",
       "  <thead>\n",
       "    <tr style=\"text-align: right;\">\n",
       "      <th></th>\n",
       "      <th>sessionNo</th>\n",
       "      <th>order</th>\n",
       "      <th>prediction</th>\n",
       "    </tr>\n",
       "    <tr>\n",
       "      <th>hit</th>\n",
       "      <th></th>\n",
       "      <th></th>\n",
       "      <th></th>\n",
       "    </tr>\n",
       "  </thead>\n",
       "  <tbody>\n",
       "    <tr>\n",
       "      <th>False</th>\n",
       "      <td>614</td>\n",
       "      <td>614</td>\n",
       "      <td>614</td>\n",
       "    </tr>\n",
       "    <tr>\n",
       "      <th>True</th>\n",
       "      <td>4497</td>\n",
       "      <td>4497</td>\n",
       "      <td>4497</td>\n",
       "    </tr>\n",
       "  </tbody>\n",
       "</table>\n",
       "</div>"
      ],
      "text/plain": [
       "       sessionNo  order  prediction\n",
       "hit                                \n",
       "False        614    614         614\n",
       "True        4497   4497        4497"
      ]
     },
     "execution_count": 465,
     "metadata": {},
     "output_type": "execute_result"
    }
   ],
   "source": [
    "no_creativity"
   ]
  },
  {
   "cell_type": "code",
   "execution_count": 466,
   "metadata": {},
   "outputs": [],
   "source": [
    "hit_rate = no_creativity.iloc[1,0]/(no_creativity.iloc[0,0]+no_creativity.iloc[1,0])"
   ]
  },
  {
   "cell_type": "code",
   "execution_count": 467,
   "metadata": {},
   "outputs": [
    {
     "data": {
      "text/plain": [
       "0.8798669536294267"
      ]
     },
     "execution_count": 467,
     "metadata": {},
     "output_type": "execute_result"
    }
   ],
   "source": [
    "hit_rate"
   ]
  },
  {
   "cell_type": "markdown",
   "metadata": {},
   "source": [
    "## Conclusão"
   ]
  },
  {
   "cell_type": "markdown",
   "metadata": {},
   "source": [
    "### Ao se realizar os tratamentos dos missing values, verificou-se que o melhor desempenho da Curva ROC foi obtido ao se realizar a remoção dos missing values ( datas[6] e datas[7]), entretanto, tal tratamento não poderia ser realizado com a base de validação, visto que para submeter na competição é necessario enviar a predição de todas as sessões, assim, poderia realizar um outro tratamendo para os missing values na validação, ou escolher o terceiro tratamento com a melhor curva ROC, mas, como o objetivo do trabalho era utilizar o mesmo tratamento, este foi aplicado no código exibido acima."
   ]
  },
  {
   "cell_type": "markdown",
   "metadata": {},
   "source": [
    "### A melhora da curva ROC com a remoção do missing values pode ser atribuida a não existencia de variaveis \"falsas\", ou seja, que podem não condizer com o dado real do individuo e desta forma atrapalhar a classsificação."
   ]
  },
  {
   "cell_type": "markdown",
   "metadata": {},
   "source": [
    "### A taxa de acerto obtida foi satisfatoria, visto ser a primeira experiencia em tal área dos componentes do grupo, esta entretanto, devido as particularidades do Random Forest (as variáveis utilizadas em cada nó da árvore são selecionadas de forma aleatória) , varia um pouco a cada execução."
   ]
  },
  {
   "cell_type": "code",
   "execution_count": null,
   "metadata": {},
   "outputs": [],
   "source": []
  },
  {
   "cell_type": "code",
   "execution_count": null,
   "metadata": {},
   "outputs": [],
   "source": []
  }
 ],
 "metadata": {
  "kernelspec": {
   "display_name": "Python 3",
   "language": "python",
   "name": "python3"
  },
  "language_info": {
   "codemirror_mode": {
    "name": "ipython",
    "version": 3
   },
   "file_extension": ".py",
   "mimetype": "text/x-python",
   "name": "python",
   "nbconvert_exporter": "python",
   "pygments_lexer": "ipython3",
   "version": "3.7.5"
  }
 },
 "nbformat": 4,
 "nbformat_minor": 2
}
