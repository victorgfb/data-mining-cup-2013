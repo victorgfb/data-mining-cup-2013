{
 "cells": [
  {
   "cell_type": "markdown",
   "metadata": {},
   "source": [
    "# Inteligência Computacional"
   ]
  },
  {
   "cell_type": "markdown",
   "metadata": {},
   "source": [
    "## Projeto DATA MINING CUP Competition 2013"
   ]
  },
  {
   "cell_type": "code",
   "execution_count": 63,
   "metadata": {},
   "outputs": [],
   "source": [
    "import pandas as pd"
   ]
  },
  {
   "cell_type": "code",
   "execution_count": 64,
   "metadata": {},
   "outputs": [],
   "source": [
    "from copy import deepcopy"
   ]
  },
  {
   "cell_type": "code",
   "execution_count": 65,
   "metadata": {},
   "outputs": [],
   "source": [
    "data = pd.read_csv('transact_train.csv')"
   ]
  },
  {
   "cell_type": "markdown",
   "metadata": {},
   "source": [
    "## Tratando Granularidade e Criando Variáveis"
   ]
  },
  {
   "cell_type": "markdown",
   "metadata": {},
   "source": [
    "### Agrupando Dados\n",
    "agrupando todos os dataframes separados por sessionNo em um vetor"
   ]
  },
  {
   "cell_type": "code",
   "execution_count": 66,
   "metadata": {},
   "outputs": [],
   "source": [
    "group = data[\"sessionNo\"]\n",
    "agg = data.groupby([group])\n",
    "splited = []\n",
    "for group in agg:\n",
    "    splited.append(pd.DataFrame(data = group[1], columns=data.columns.values))"
   ]
  },
  {
   "cell_type": "code",
   "execution_count": 67,
   "metadata": {},
   "outputs": [],
   "source": [
    "# vetor de dataframes separados por sessionNo\n",
    "#splited[2]"
   ]
  },
  {
   "cell_type": "markdown",
   "metadata": {},
   "source": [
    "### Criando Variáveis da mudança de granularidade\n",
    "Essas são as variáveis que criamos buscando recuperar dados perdidos na mudança da granularidade\n",
    "##### bStep_count\n",
    "    Quantidade de bStep maiores que 3 de cada sessão\n",
    "##### countLog\n",
    "    Numero de log de cada sessão\n",
    "##### modes\n",
    "    Moda do bStep de cada Sessão."
   ]
  },
  {
   "cell_type": "code",
   "execution_count": 68,
   "metadata": {},
   "outputs": [],
   "source": [
    "bStep_count = []\n",
    "countLog = []\n",
    "modes = []\n",
    "for session in splited:\n",
    "    countStep = 0\n",
    "    countLog.append(len(session))\n",
    "    modes.append(session['bStep'].mode()[0])\n",
    "    for j in range(len(session)):\n",
    "        if(session['bStep'].iloc[j] != \"?\" and int(session['bStep'].iloc[j]) >= 3):\n",
    "            countStep +=1\n",
    "    bStep_count.append(countStep)"
   ]
  },
  {
   "cell_type": "code",
   "execution_count": 69,
   "metadata": {},
   "outputs": [],
   "source": [
    "#bStep_count\n",
    "#countLog\n",
    "#modes"
   ]
  },
  {
   "cell_type": "markdown",
   "metadata": {},
   "source": [
    "### Mudando Granularidade"
   ]
  },
  {
   "cell_type": "code",
   "execution_count": 70,
   "metadata": {},
   "outputs": [],
   "source": [
    "#Mudando a granularidade\n",
    "data = data.groupby(['sessionNo'], as_index=False).last()"
   ]
  },
  {
   "cell_type": "markdown",
   "metadata": {},
   "source": [
    "### Criando Variáveis de Correlação\n",
    "\n",
    "As técnicas de inteligência artificial pressupõem que as variáveis não têm correlação entre si, apenas relação direta com a variável alvo.\n",
    "\n",
    "Essas são as variáveis que criamos buscando informar uma correlação entre variáveis\n",
    "##### diffCounts\n",
    "    diferença entre cCount e bCount\n",
    "##### durCount\n",
    "    Razão entre a duração e o Ccount"
   ]
  },
  {
   "cell_type": "code",
   "execution_count": 71,
   "metadata": {},
   "outputs": [],
   "source": [
    "# diffCounts\n",
    "diffCounts = (data['cCount']-data['bCount']).values\n",
    "\n",
    "# durCount\n",
    "durCount = (data['duration']/data['cCount'])\n",
    "durCount = durCount.replace(float(\"inf\"), \"?\", regex=False).values\n",
    "# Testar depois com outros valores para tratar o inf"
   ]
  },
  {
   "cell_type": "code",
   "execution_count": 72,
   "metadata": {},
   "outputs": [],
   "source": [
    "#diffCounts\n",
    "#durCount"
   ]
  },
  {
   "cell_type": "markdown",
   "metadata": {},
   "source": [
    "### Atribuindo numeros às classes\n",
    "Buscando melhorar o processamento, transformamos todos os nomes de classe para numeros, numa sequencia de 0 ao numero de classes -1 para cada classe diferente."
   ]
  },
  {
   "cell_type": "code",
   "execution_count": 73,
   "metadata": {},
   "outputs": [],
   "source": [
    "##Ver os valores diferentes de availability\n",
    "#data.groupby(['availability'], as_index=False).last()\n",
    "\n",
    "##Ver os valores diferentes de onlineStatus\n",
    "#data.groupby(['onlineStatus'], as_index=False).last()\n",
    "\n",
    "##Ver os valores diferentes de order\n",
    "#data.groupby(['order'], as_index=False).last()"
   ]
  },
  {
   "cell_type": "code",
   "execution_count": 74,
   "metadata": {},
   "outputs": [],
   "source": [
    "# availability\n",
    "data.loc[(data.availability == 'completely not determinable'),'availability']= 0\n",
    "data.loc[(data.availability == 'completely not orderable'),'availability']= 1\n",
    "data.loc[(data.availability == 'completely orderable'),'availability']= 2\n",
    "data.loc[(data.availability == 'mainly not determinable'),'availability']= 3\n",
    "data.loc[(data.availability == 'mainly not orderable'),'availability']= 4\n",
    "data.loc[(data.availability == 'mainly orderable'),'availability']= 5\n",
    "data.loc[(data.availability == 'mixed'),'availability']= 6\n",
    "\n",
    "# onlineStatus\n",
    "data.loc[(data.onlineStatus == 'y'),'onlineStatus']= 1\n",
    "data.loc[(data.onlineStatus == 'n'),'onlineStatus']= 0\n",
    "\n",
    "# order\n",
    "data.loc[(data.order == 'y'),'order']= 1\n",
    "data.loc[(data.order == 'n'),'order']= 0"
   ]
  },
  {
   "cell_type": "markdown",
   "metadata": {},
   "source": [
    "### Inserindo as colunas das variáveis criadas\n",
    "Com as variáveis criadas, adicionamos ao conjunto de dados com a granularidade já alterada."
   ]
  },
  {
   "cell_type": "code",
   "execution_count": 75,
   "metadata": {},
   "outputs": [],
   "source": [
    "#Inserindo colunas de variáveis no conjunto de dados total\n",
    "\n",
    "#bStep_count\n",
    "data.insert(23, \"bStep_count\", bStep_count , True) \n",
    "\n",
    "#countLog\n",
    "data.insert(24, \"countLog\", countLog , True)\n",
    "\n",
    "#modes\n",
    "data.insert(25, \"modes\", modes , True) \n",
    "\n",
    "#diffCounts\n",
    "data.insert(26, \"diffCounts\", diffCounts , True) \n",
    "\n",
    "#durCount\n",
    "data.insert(27, \"durCount\", durCount, True) "
   ]
  },
  {
   "cell_type": "code",
   "execution_count": 76,
   "metadata": {},
   "outputs": [],
   "source": [
    "#data"
   ]
  },
  {
   "cell_type": "markdown",
   "metadata": {},
   "source": [
    "### Tratando Missing Values"
   ]
  },
  {
   "cell_type": "code",
   "execution_count": 77,
   "metadata": {},
   "outputs": [],
   "source": [
    "backupData = deepcopy(data)"
   ]
  },
  {
   "cell_type": "code",
   "execution_count": 89,
   "metadata": {},
   "outputs": [
    {
     "data": {
      "text/plain": [
       "0.0"
      ]
     },
     "execution_count": 89,
     "metadata": {},
     "output_type": "execute_result"
    }
   ],
   "source": [
    "#Tratamento de missing value com o valor minimo\n",
    "data['durCount'].mask(data['durCount'] == '?').min()"
   ]
  },
  {
   "cell_type": "code",
   "execution_count": 90,
   "metadata": {},
   "outputs": [],
   "source": [
    "def replaceMissingbyMin(data, field):\n",
    "    if(field == 'durCount'):\n",
    "        mini = data['durCount'].mask(data['durCount'] == '?').min()\n",
    "    else:\n",
    "        mini = data[field].min()\n",
    "    data[field] = data[field].replace('?', mini, regex=False)\n"
   ]
  },
  {
   "cell_type": "code",
   "execution_count": 91,
   "metadata": {
    "scrolled": true
   },
   "outputs": [],
   "source": [
    "varsNum = ['cMinPrice', 'cMaxPrice', 'cSumPrice', 'bMinPrice', 'bMaxPrice', 'bSumPrice', 'bStep', 'maxVal', \n",
    "           'customerScore', 'accountLifetime', 'payments', 'age', 'lastOrder',\"bStep_count\", \"modes\" , \"countLog\" , \"diffCounts\", \"durCount\"]\n",
    "\n",
    "for var in varsNum:\n",
    "    replaceMissingbyMin(data, var)"
   ]
  },
  {
   "cell_type": "code",
   "execution_count": 92,
   "metadata": {},
   "outputs": [],
   "source": [
    "data2 = deepcopy(data)"
   ]
  },
  {
   "cell_type": "code",
   "execution_count": 93,
   "metadata": {},
   "outputs": [],
   "source": [
    "def replaceMissingbyMode(data, field):\n",
    "    mode = data[field].mode()\n",
    "    if((mode == '?').bool()):\n",
    "        mode = data[field].value_counts().index[1]\n",
    "    data[field] = data[field].replace('?', mode, regex=False)"
   ]
  },
  {
   "cell_type": "code",
   "execution_count": 94,
   "metadata": {},
   "outputs": [],
   "source": [
    "categories = ['onlineStatus', 'availability', 'address']"
   ]
  },
  {
   "cell_type": "code",
   "execution_count": 95,
   "metadata": {},
   "outputs": [],
   "source": [
    "#substitui missing value da categoria pela moda\n",
    "for category in categories:\n",
    "    replaceMissingbyMode(data, category)"
   ]
  },
  {
   "cell_type": "code",
   "execution_count": 96,
   "metadata": {},
   "outputs": [],
   "source": [
    "#substitui missing value da categoria pela moda\n",
    "for category in categories:\n",
    "    replaceMissingbyMode(data, category)"
   ]
  },
  {
   "cell_type": "code",
   "execution_count": 97,
   "metadata": {},
   "outputs": [],
   "source": [
    "#substitui missing value da categoria por -1\n",
    "def replaceMissingbyNew(data, field):\n",
    "    data[field] = data[field].replace('?', -1, regex=False)"
   ]
  },
  {
   "cell_type": "code",
   "execution_count": 98,
   "metadata": {},
   "outputs": [],
   "source": [
    "for category in categories:\n",
    "    replaceMissingbyNew(data2, category)"
   ]
  },
  {
   "cell_type": "code",
   "execution_count": 99,
   "metadata": {},
   "outputs": [],
   "source": [
    "#Salva a tabela\n",
    "datas = [data, data2]\n",
    "data = deepcopy(backupData)"
   ]
  },
  {
   "cell_type": "code",
   "execution_count": 100,
   "metadata": {},
   "outputs": [
    {
     "data": {
      "text/html": [
       "<div>\n",
       "<style scoped>\n",
       "    .dataframe tbody tr th:only-of-type {\n",
       "        vertical-align: middle;\n",
       "    }\n",
       "\n",
       "    .dataframe tbody tr th {\n",
       "        vertical-align: top;\n",
       "    }\n",
       "\n",
       "    .dataframe thead th {\n",
       "        text-align: right;\n",
       "    }\n",
       "</style>\n",
       "<table border=\"1\" class=\"dataframe\">\n",
       "  <thead>\n",
       "    <tr style=\"text-align: right;\">\n",
       "      <th></th>\n",
       "      <th>sessionNo</th>\n",
       "      <th>startHour</th>\n",
       "      <th>startWeekday</th>\n",
       "      <th>duration</th>\n",
       "      <th>cCount</th>\n",
       "      <th>cMinPrice</th>\n",
       "      <th>cMaxPrice</th>\n",
       "      <th>cSumPrice</th>\n",
       "      <th>bCount</th>\n",
       "      <th>bMinPrice</th>\n",
       "      <th>...</th>\n",
       "      <th>payments</th>\n",
       "      <th>age</th>\n",
       "      <th>address</th>\n",
       "      <th>lastOrder</th>\n",
       "      <th>bStep_count</th>\n",
       "      <th>countLog</th>\n",
       "      <th>modes</th>\n",
       "      <th>diffCounts</th>\n",
       "      <th>durCount</th>\n",
       "      <th>order</th>\n",
       "    </tr>\n",
       "  </thead>\n",
       "  <tbody>\n",
       "    <tr>\n",
       "      <th>0</th>\n",
       "      <td>1</td>\n",
       "      <td>6</td>\n",
       "      <td>5</td>\n",
       "      <td>39887.0</td>\n",
       "      <td>1</td>\n",
       "      <td>59.99</td>\n",
       "      <td>59.99</td>\n",
       "      <td>59.99</td>\n",
       "      <td>1</td>\n",
       "      <td>59.99</td>\n",
       "      <td>...</td>\n",
       "      <td>1</td>\n",
       "      <td>43</td>\n",
       "      <td>1</td>\n",
       "      <td>49</td>\n",
       "      <td>0</td>\n",
       "      <td>3</td>\n",
       "      <td>1</td>\n",
       "      <td>0</td>\n",
       "      <td>39887.000000</td>\n",
       "      <td>1</td>\n",
       "    </tr>\n",
       "    <tr>\n",
       "      <th>1</th>\n",
       "      <td>2</td>\n",
       "      <td>6</td>\n",
       "      <td>5</td>\n",
       "      <td>94469.0</td>\n",
       "      <td>0</td>\n",
       "      <td>0.0</td>\n",
       "      <td>0.0</td>\n",
       "      <td>0.0</td>\n",
       "      <td>0</td>\n",
       "      <td>0.0</td>\n",
       "      <td>...</td>\n",
       "      <td>0</td>\n",
       "      <td>17</td>\n",
       "      <td>-1</td>\n",
       "      <td>10</td>\n",
       "      <td>2</td>\n",
       "      <td>5</td>\n",
       "      <td>4</td>\n",
       "      <td>0</td>\n",
       "      <td>0.000000</td>\n",
       "      <td>1</td>\n",
       "    </tr>\n",
       "    <tr>\n",
       "      <th>2</th>\n",
       "      <td>3</td>\n",
       "      <td>6</td>\n",
       "      <td>5</td>\n",
       "      <td>341613.0</td>\n",
       "      <td>11</td>\n",
       "      <td>9.99</td>\n",
       "      <td>29.99</td>\n",
       "      <td>109.95</td>\n",
       "      <td>2</td>\n",
       "      <td>9.99</td>\n",
       "      <td>...</td>\n",
       "      <td>12</td>\n",
       "      <td>45</td>\n",
       "      <td>1</td>\n",
       "      <td>11</td>\n",
       "      <td>1</td>\n",
       "      <td>5</td>\n",
       "      <td>1</td>\n",
       "      <td>9</td>\n",
       "      <td>31055.727273</td>\n",
       "      <td>1</td>\n",
       "    </tr>\n",
       "    <tr>\n",
       "      <th>3</th>\n",
       "      <td>4</td>\n",
       "      <td>6</td>\n",
       "      <td>5</td>\n",
       "      <td>42812.0</td>\n",
       "      <td>4</td>\n",
       "      <td>4.99</td>\n",
       "      <td>4.99</td>\n",
       "      <td>19.96</td>\n",
       "      <td>1</td>\n",
       "      <td>4.99</td>\n",
       "      <td>...</td>\n",
       "      <td>0</td>\n",
       "      <td>17</td>\n",
       "      <td>-1</td>\n",
       "      <td>10</td>\n",
       "      <td>0</td>\n",
       "      <td>2</td>\n",
       "      <td>1</td>\n",
       "      <td>3</td>\n",
       "      <td>10703.000000</td>\n",
       "      <td>0</td>\n",
       "    </tr>\n",
       "    <tr>\n",
       "      <th>4</th>\n",
       "      <td>5</td>\n",
       "      <td>6</td>\n",
       "      <td>5</td>\n",
       "      <td>2816046.0</td>\n",
       "      <td>45</td>\n",
       "      <td>12.99</td>\n",
       "      <td>179.95</td>\n",
       "      <td>1093.72</td>\n",
       "      <td>4</td>\n",
       "      <td>19.99</td>\n",
       "      <td>...</td>\n",
       "      <td>1</td>\n",
       "      <td>46</td>\n",
       "      <td>1</td>\n",
       "      <td>40</td>\n",
       "      <td>2</td>\n",
       "      <td>8</td>\n",
       "      <td>1</td>\n",
       "      <td>41</td>\n",
       "      <td>62578.800000</td>\n",
       "      <td>1</td>\n",
       "    </tr>\n",
       "    <tr>\n",
       "      <th>...</th>\n",
       "      <td>...</td>\n",
       "      <td>...</td>\n",
       "      <td>...</td>\n",
       "      <td>...</td>\n",
       "      <td>...</td>\n",
       "      <td>...</td>\n",
       "      <td>...</td>\n",
       "      <td>...</td>\n",
       "      <td>...</td>\n",
       "      <td>...</td>\n",
       "      <td>...</td>\n",
       "      <td>...</td>\n",
       "      <td>...</td>\n",
       "      <td>...</td>\n",
       "      <td>...</td>\n",
       "      <td>...</td>\n",
       "      <td>...</td>\n",
       "      <td>...</td>\n",
       "      <td>...</td>\n",
       "      <td>...</td>\n",
       "      <td>...</td>\n",
       "    </tr>\n",
       "    <tr>\n",
       "      <th>49995</th>\n",
       "      <td>49996</td>\n",
       "      <td>18</td>\n",
       "      <td>7</td>\n",
       "      <td>7271812.0</td>\n",
       "      <td>197</td>\n",
       "      <td>6.99</td>\n",
       "      <td>59.99</td>\n",
       "      <td>4315.03</td>\n",
       "      <td>13</td>\n",
       "      <td>9.99</td>\n",
       "      <td>...</td>\n",
       "      <td>0</td>\n",
       "      <td>17</td>\n",
       "      <td>-1</td>\n",
       "      <td>10</td>\n",
       "      <td>5</td>\n",
       "      <td>31</td>\n",
       "      <td>1</td>\n",
       "      <td>184</td>\n",
       "      <td>36912.751269</td>\n",
       "      <td>1</td>\n",
       "    </tr>\n",
       "    <tr>\n",
       "      <th>49996</th>\n",
       "      <td>49997</td>\n",
       "      <td>18</td>\n",
       "      <td>7</td>\n",
       "      <td>667219.0</td>\n",
       "      <td>8</td>\n",
       "      <td>70.99</td>\n",
       "      <td>89.99</td>\n",
       "      <td>667.88</td>\n",
       "      <td>1</td>\n",
       "      <td>89.99</td>\n",
       "      <td>...</td>\n",
       "      <td>0</td>\n",
       "      <td>17</td>\n",
       "      <td>-1</td>\n",
       "      <td>10</td>\n",
       "      <td>0</td>\n",
       "      <td>2</td>\n",
       "      <td>2</td>\n",
       "      <td>7</td>\n",
       "      <td>83402.375000</td>\n",
       "      <td>0</td>\n",
       "    </tr>\n",
       "    <tr>\n",
       "      <th>49997</th>\n",
       "      <td>49998</td>\n",
       "      <td>18</td>\n",
       "      <td>7</td>\n",
       "      <td>5988882.0</td>\n",
       "      <td>77</td>\n",
       "      <td>9.99</td>\n",
       "      <td>149.99</td>\n",
       "      <td>5253.28</td>\n",
       "      <td>3</td>\n",
       "      <td>49.95</td>\n",
       "      <td>...</td>\n",
       "      <td>0</td>\n",
       "      <td>17</td>\n",
       "      <td>-1</td>\n",
       "      <td>10</td>\n",
       "      <td>0</td>\n",
       "      <td>3</td>\n",
       "      <td>1</td>\n",
       "      <td>74</td>\n",
       "      <td>77777.688312</td>\n",
       "      <td>0</td>\n",
       "    </tr>\n",
       "    <tr>\n",
       "      <th>49998</th>\n",
       "      <td>49999</td>\n",
       "      <td>18</td>\n",
       "      <td>7</td>\n",
       "      <td>715341.0</td>\n",
       "      <td>7</td>\n",
       "      <td>59.0</td>\n",
       "      <td>649.99</td>\n",
       "      <td>1159.95</td>\n",
       "      <td>1</td>\n",
       "      <td>89.99</td>\n",
       "      <td>...</td>\n",
       "      <td>0</td>\n",
       "      <td>24</td>\n",
       "      <td>1</td>\n",
       "      <td>4</td>\n",
       "      <td>0</td>\n",
       "      <td>2</td>\n",
       "      <td>1</td>\n",
       "      <td>6</td>\n",
       "      <td>102191.571429</td>\n",
       "      <td>0</td>\n",
       "    </tr>\n",
       "    <tr>\n",
       "      <th>49999</th>\n",
       "      <td>50000</td>\n",
       "      <td>18</td>\n",
       "      <td>7</td>\n",
       "      <td>82943.0</td>\n",
       "      <td>1</td>\n",
       "      <td>6.99</td>\n",
       "      <td>6.99</td>\n",
       "      <td>6.99</td>\n",
       "      <td>1</td>\n",
       "      <td>6.99</td>\n",
       "      <td>...</td>\n",
       "      <td>0</td>\n",
       "      <td>53</td>\n",
       "      <td>1</td>\n",
       "      <td>34</td>\n",
       "      <td>0</td>\n",
       "      <td>2</td>\n",
       "      <td>1</td>\n",
       "      <td>0</td>\n",
       "      <td>82943.000000</td>\n",
       "      <td>0</td>\n",
       "    </tr>\n",
       "  </tbody>\n",
       "</table>\n",
       "<p>50000 rows × 29 columns</p>\n",
       "</div>"
      ],
      "text/plain": [
       "       sessionNo  startHour  startWeekday   duration  cCount cMinPrice  \\\n",
       "0              1          6             5    39887.0       1     59.99   \n",
       "1              2          6             5    94469.0       0       0.0   \n",
       "2              3          6             5   341613.0      11      9.99   \n",
       "3              4          6             5    42812.0       4      4.99   \n",
       "4              5          6             5  2816046.0      45     12.99   \n",
       "...          ...        ...           ...        ...     ...       ...   \n",
       "49995      49996         18             7  7271812.0     197      6.99   \n",
       "49996      49997         18             7   667219.0       8     70.99   \n",
       "49997      49998         18             7  5988882.0      77      9.99   \n",
       "49998      49999         18             7   715341.0       7      59.0   \n",
       "49999      50000         18             7    82943.0       1      6.99   \n",
       "\n",
       "      cMaxPrice cSumPrice  bCount bMinPrice  ... payments age address  \\\n",
       "0         59.99     59.99       1     59.99  ...        1  43       1   \n",
       "1           0.0       0.0       0       0.0  ...        0  17      -1   \n",
       "2         29.99    109.95       2      9.99  ...       12  45       1   \n",
       "3          4.99     19.96       1      4.99  ...        0  17      -1   \n",
       "4        179.95   1093.72       4     19.99  ...        1  46       1   \n",
       "...         ...       ...     ...       ...  ...      ...  ..     ...   \n",
       "49995     59.99   4315.03      13      9.99  ...        0  17      -1   \n",
       "49996     89.99    667.88       1     89.99  ...        0  17      -1   \n",
       "49997    149.99   5253.28       3     49.95  ...        0  17      -1   \n",
       "49998    649.99   1159.95       1     89.99  ...        0  24       1   \n",
       "49999      6.99      6.99       1      6.99  ...        0  53       1   \n",
       "\n",
       "       lastOrder  bStep_count countLog modes diffCounts       durCount order  \n",
       "0             49            0        3     1          0   39887.000000     1  \n",
       "1             10            2        5     4          0       0.000000     1  \n",
       "2             11            1        5     1          9   31055.727273     1  \n",
       "3             10            0        2     1          3   10703.000000     0  \n",
       "4             40            2        8     1         41   62578.800000     1  \n",
       "...          ...          ...      ...   ...        ...            ...   ...  \n",
       "49995         10            5       31     1        184   36912.751269     1  \n",
       "49996         10            0        2     2          7   83402.375000     0  \n",
       "49997         10            0        3     1         74   77777.688312     0  \n",
       "49998          4            0        2     1          6  102191.571429     0  \n",
       "49999         34            0        2     1          0   82943.000000     0  \n",
       "\n",
       "[50000 rows x 29 columns]"
      ]
     },
     "execution_count": 100,
     "metadata": {},
     "output_type": "execute_result"
    }
   ],
   "source": [
    "datas[1]"
   ]
  },
  {
   "cell_type": "code",
   "execution_count": 101,
   "metadata": {},
   "outputs": [],
   "source": [
    "#Substitui missing value  pelo máximo."
   ]
  },
  {
   "cell_type": "code",
   "execution_count": null,
   "metadata": {},
   "outputs": [],
   "source": []
  }
 ],
 "metadata": {
  "kernelspec": {
   "display_name": "Python 3",
   "language": "python",
   "name": "python3"
  },
  "language_info": {
   "codemirror_mode": {
    "name": "ipython",
    "version": 3
   },
   "file_extension": ".py",
   "mimetype": "text/x-python",
   "name": "python",
   "nbconvert_exporter": "python",
   "pygments_lexer": "ipython3",
   "version": "3.7.5"
  }
 },
 "nbformat": 4,
 "nbformat_minor": 2
}
