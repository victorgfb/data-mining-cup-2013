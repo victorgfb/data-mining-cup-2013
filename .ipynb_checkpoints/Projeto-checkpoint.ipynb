{
 "cells": [
  {
   "cell_type": "markdown",
   "metadata": {},
   "source": [
    "# Inteligência Computacional"
   ]
  },
  {
   "cell_type": "markdown",
   "metadata": {},
   "source": [
    "## Projeto DATA MINING CUP Competition 2013"
   ]
  },
  {
   "cell_type": "code",
   "execution_count": 42,
   "metadata": {},
   "outputs": [],
   "source": [
    "import pandas as pd"
   ]
  },
  {
   "cell_type": "code",
   "execution_count": 43,
   "metadata": {},
   "outputs": [],
   "source": [
    "data = pd.read_csv('transact_train.csv')"
   ]
  },
  {
   "cell_type": "markdown",
   "metadata": {},
   "source": [
    "## Tratando Granularidade e Criando Variáveis"
   ]
  },
  {
   "cell_type": "markdown",
   "metadata": {},
   "source": [
    "### Agrupando Dados\n",
    "agrupando todos os dataframes separados por sessionNo em um vetor"
   ]
  },
  {
   "cell_type": "code",
   "execution_count": 44,
   "metadata": {},
   "outputs": [],
   "source": [
    "group = data[\"sessionNo\"]\n",
    "agg = data.groupby([group])\n",
    "splited = []\n",
    "for group in agg:\n",
    "    splited.append(pd.DataFrame(data = group[1], columns=data.columns.values))"
   ]
  },
  {
   "cell_type": "code",
   "execution_count": 65,
   "metadata": {},
   "outputs": [],
   "source": [
    "# vetor de dataframes separados por sessionNo\n",
    "#splited[2]"
   ]
  },
  {
   "cell_type": "markdown",
   "metadata": {},
   "source": [
    "### Criando Variáveis da mudança de granularidade\n",
    "Essas são as variáveis que criamos buscando recuperar dados perdidos na mudança da granularidade\n",
    "##### bStep_count\n",
    "    Quantidade de bStep maiores que 3 de cada sessão\n",
    "##### countLog\n",
    "    Numero de log de cada sessão\n",
    "##### modes\n",
    "    Moda do bStep de cada Sessão."
   ]
  },
  {
   "cell_type": "code",
   "execution_count": 66,
   "metadata": {},
   "outputs": [],
   "source": [
    "bStep_count = []\n",
    "countLog = []\n",
    "modes = []\n",
    "for session in splited:\n",
    "    countStep = 0\n",
    "    countLog.append(len(session))\n",
    "    modes.append(session['bStep'].mode()[0])\n",
    "    for j in range(len(session)):\n",
    "        if(session['bStep'].iloc[j] != \"?\" and int(session['bStep'].iloc[j]) >= 3):\n",
    "            countStep +=1\n",
    "    bStep_count.append(countStep)"
   ]
  },
  {
   "cell_type": "code",
   "execution_count": 63,
   "metadata": {},
   "outputs": [],
   "source": [
    "#bStep_count\n",
    "#countLog\n",
    "#modes"
   ]
  },
  {
   "cell_type": "markdown",
   "metadata": {},
   "source": [
    "### Mudando Granularidade"
   ]
  },
  {
   "cell_type": "code",
   "execution_count": 52,
   "metadata": {},
   "outputs": [],
   "source": [
    "#Mudando a granularidade\n",
    "data = data.groupby(['sessionNo'], as_index=False).last()"
   ]
  },
  {
   "cell_type": "markdown",
   "metadata": {},
   "source": [
    "### Criando Variáveis de Correlação\n",
    "\n",
    "As técnicas de inteligência artificial pressupõem que as variáveis não têm correlação entre si, apenas relação direta com a variável alvo.\n",
    "\n",
    "Essas são as variáveis que criamos buscando informar uma correlação entre variáveis\n",
    "##### diffCounts\n",
    "    diferença entre cCount e bCount\n",
    "##### durCount\n",
    "    Razão entre a duração e o Ccount"
   ]
  },
  {
   "cell_type": "code",
   "execution_count": 53,
   "metadata": {},
   "outputs": [],
   "source": [
    "# diffCounts\n",
    "diffCounts = (data['cCount']-data['bCount']).values\n",
    "\n",
    "# durCount\n",
    "durCount = (data['duration']/data['cCount'])\n",
    "durCount = durCount.replace(float(\"inf\"), '?', regex=False).values\n",
    "# Testar depois com outros valores para tratar o inf"
   ]
  },
  {
   "cell_type": "code",
   "execution_count": 56,
   "metadata": {},
   "outputs": [],
   "source": [
    "#diffCounts\n",
    "#durCount"
   ]
  },
  {
   "cell_type": "markdown",
   "metadata": {},
   "source": [
    "### Atribuindo numeros às classes\n",
    "Buscando melhorar o processamento, transformamos todos os nomes de classe para numeros, numa sequencia de 0 ao numero de classes -1 para cada classe diferente."
   ]
  },
  {
   "cell_type": "code",
   "execution_count": 57,
   "metadata": {},
   "outputs": [],
   "source": [
    "##Ver os valores diferentes de availability\n",
    "#data.groupby(['availability'], as_index=False).last()\n",
    "\n",
    "##Ver os valores diferentes de onlineStatus\n",
    "#data.groupby(['onlineStatus'], as_index=False).last()\n",
    "\n",
    "##Ver os valores diferentes de order\n",
    "#data.groupby(['order'], as_index=False).last()"
   ]
  },
  {
   "cell_type": "code",
   "execution_count": 58,
   "metadata": {},
   "outputs": [],
   "source": [
    "# availability\n",
    "data.loc[(data.availability == 'completely not determinable'),'availability']= 0\n",
    "data.loc[(data.availability == 'completely not orderable'),'availability']= 1\n",
    "data.loc[(data.availability == 'completely orderable'),'availability']= 2\n",
    "data.loc[(data.availability == 'mainly not determinable'),'availability']= 3\n",
    "data.loc[(data.availability == 'mainly not orderable'),'availability']= 4\n",
    "data.loc[(data.availability == 'mainly orderable'),'availability']= 5\n",
    "data.loc[(data.availability == 'mixed'),'availability']= 6\n",
    "\n",
    "# onlineStatus\n",
    "data.loc[(data.onlineStatus == 'y'),'onlineStatus']= 1\n",
    "data.loc[(data.onlineStatus == 'n'),'onlineStatus']= 0\n",
    "\n",
    "# order\n",
    "data.loc[(data.order == 'y'),'order']= 1\n",
    "data.loc[(data.order == 'n'),'order']= 0"
   ]
  },
  {
   "cell_type": "markdown",
   "metadata": {},
   "source": [
    "### Inserindo as colunas das variáveis criadas\n",
    "Com as variáveis criadas, adicionamos ao conjunto de dados com a granularidade já alterada."
   ]
  },
  {
   "cell_type": "code",
   "execution_count": 59,
   "metadata": {},
   "outputs": [],
   "source": [
    "#Inserindo colunas de variáveis no conjunto de dados total\n",
    "\n",
    "#bStep_count\n",
    "data.insert(23, \"bStep_count\", bStep_count , True) \n",
    "\n",
    "#countLog\n",
    "data.insert(24, \"countLog\", countLog , True)\n",
    "\n",
    "#modes\n",
    "data.insert(25, \"modes\", modes , True) \n",
    "\n",
    "#diffCounts\n",
    "data.insert(26, \"diffCounts\", diffCounts , True) \n",
    "\n",
    "#durCount\n",
    "data.insert(27, \"durCount\", durCount, True) "
   ]
  },
  {
   "cell_type": "code",
   "execution_count": null,
   "metadata": {},
   "outputs": [],
   "source": [
    "#data"
   ]
  },
  {
   "cell_type": "markdown",
   "metadata": {},
   "source": [
    "### Tratando Missing Values"
   ]
  }
 ],
 "metadata": {
  "kernelspec": {
   "display_name": "Python 3",
   "language": "python",
   "name": "python3"
  },
  "language_info": {
   "codemirror_mode": {
    "name": "ipython",
    "version": 3
   },
   "file_extension": ".py",
   "mimetype": "text/x-python",
   "name": "python",
   "nbconvert_exporter": "python",
   "pygments_lexer": "ipython3",
   "version": "3.7.3"
  }
 },
 "nbformat": 4,
 "nbformat_minor": 2
}
